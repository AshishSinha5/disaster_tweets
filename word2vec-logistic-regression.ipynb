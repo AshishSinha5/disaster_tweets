{
 "cells": [
  {
   "cell_type": "code",
   "execution_count": 1,
   "metadata": {
    "_cell_guid": "0390c7f6-c04a-4e01-8187-e64e113753af",
    "_uuid": "aa51727b-ec88-459b-90c7-b70c5d8f2b8b"
   },
   "outputs": [
    {
     "name": "stdout",
     "output_type": "stream",
     "text": [
      "/kaggle/input/googlenewsvectorsnegative300/GoogleNews-vectors-negative300.bin\n",
      "/kaggle/input/nlp-getting-started/sample_submission.csv\n",
      "/kaggle/input/nlp-getting-started/train.csv\n",
      "/kaggle/input/nlp-getting-started/test.csv\n"
     ]
    }
   ],
   "source": [
    "# This Python 3 environment comes with many helpful analytics libraries installed\n",
    "# It is defined by the kaggle/python docker image: https://github.com/kaggle/docker-python\n",
    "# For example, here's several helpful packages to load in \n",
    "\n",
    "import numpy as np # linear algebra\n",
    "import pandas as pd # data processing, CSV file I/O (e.g. pd.read_csv)\n",
    "from sklearn import feature_extraction, linear_model, model_selection, preprocessing\n",
    "from sklearn.model_selection import StratifiedKFold, KFold, GridSearchCV\n",
    "from sklearn.feature_extraction.text import CountVectorizer,TfidfVectorizer, HashingVectorizer\n",
    "from nltk.tokenize.toktok import ToktokTokenizer\n",
    "from sklearn.naive_bayes import GaussianNB\n",
    "from sklearn import metrics \n",
    "import re\n",
    "import nltk\n",
    "from collections import Counter\n",
    "import gensim\n",
    "import heapq\n",
    "from operator import itemgetter\n",
    "from multiprocessing import Pool\n",
    "from collections import Counter\n",
    "from nltk.tokenize import RegexpTokenizer,word_tokenize\n",
    "from sklearn.ensemble import GradientBoostingClassifier\n",
    "from nltk.stem import  SnowballStemmer\n",
    "from nltk.stem import WordNetLemmatizer\n",
    "from sklearn.svm import SVC\n",
    "from collections import defaultdict  # For word frequency\n",
    "\n",
    "\n",
    "# Input data files are available in the \"../input/\" directory.\n",
    "# For example, running this (by clicking run or pressing Shift+Enter) will list all files under the input directory\n",
    "\n",
    "import os\n",
    "for dirname, _, filenames in os.walk('/kaggle/input'):\n",
    "    for filename in filenames:\n",
    "        print(os.path.join(dirname, filename))\n",
    "\n",
    "# Any results you write to the current directory are saved as output."
   ]
  },
  {
   "cell_type": "code",
   "execution_count": 2,
   "metadata": {
    "_cell_guid": "43420a83-c1d1-4a3e-890b-510256bbea56",
    "_uuid": "ee28a67c-b69f-4d14-bfb1-ef909308bfc1"
   },
   "outputs": [],
   "source": [
    "train_df = pd.read_csv(\"/kaggle/input/nlp-getting-started/train.csv\")\n",
    "test_df = pd.read_csv(\"/kaggle/input/nlp-getting-started/test.csv\")"
   ]
  },
  {
   "cell_type": "code",
   "execution_count": 3,
   "metadata": {
    "_cell_guid": "a5642657-0a1a-4c4c-9df0-1fc62646d817",
    "_uuid": "0c0ee6af-e45d-490c-b492-ac66ede5110d"
   },
   "outputs": [
    {
     "data": {
      "text/plain": [
       "id             0\n",
       "keyword       61\n",
       "location    2533\n",
       "text           0\n",
       "target         0\n",
       "dtype: int64"
      ]
     },
     "execution_count": 3,
     "metadata": {},
     "output_type": "execute_result"
    }
   ],
   "source": [
    "train_df.isnull().sum()"
   ]
  },
  {
   "cell_type": "code",
   "execution_count": 4,
   "metadata": {
    "_cell_guid": "e90ba1b8-f476-48f9-bd80-a920c2f74a3c",
    "_uuid": "c4a195c0-1171-4b3c-9df7-4d78002e670b"
   },
   "outputs": [],
   "source": [
    "df_raw = test_df.copy()"
   ]
  },
  {
   "cell_type": "code",
   "execution_count": 5,
   "metadata": {
    "_cell_guid": "113690c8-edf3-40c8-936c-796a850c5005",
    "_uuid": "4b976833-0e23-444b-9616-7809203f91c1"
   },
   "outputs": [],
   "source": [
    "def remove_puncts(x):\n",
    "    pattern = r'[^a-zA-z0-9\\s]'\n",
    "    text = re.sub(pattern, '', x)\n",
    "    return text"
   ]
  },
  {
   "cell_type": "code",
   "execution_count": 6,
   "metadata": {
    "_cell_guid": "3d17b0fc-66e8-4fb9-a32e-3afb6d40e06d",
    "_uuid": "3ca80a6e-86d4-4114-8b6b-5c052013de6c"
   },
   "outputs": [],
   "source": [
    "def stem_text(text):\n",
    "    tokenizer = ToktokTokenizer()\n",
    "    stemmer = SnowballStemmer('english')\n",
    "    tokens = tokenizer.tokenize(text)\n",
    "    tokens = [token.strip() for token in tokens]\n",
    "    tokens = [stemmer.stem(token) for token in tokens]\n",
    "    return ' '.join(tokens)"
   ]
  },
  {
   "cell_type": "code",
   "execution_count": 7,
   "metadata": {
    "_cell_guid": "beb1a8f0-900d-4ae9-afe0-5602f932a1f5",
    "_uuid": "ca51a52c-d8e9-4821-951c-16fb9058116c"
   },
   "outputs": [],
   "source": [
    "def lemma_text(text):\n",
    "    tokenizer = ToktokTokenizer()\n",
    "    lemmatizer = WordNetLemmatizer()\n",
    "    tokens = tokenizer.tokenize(text)\n",
    "    tokens = [token.strip() for token in tokens]\n",
    "    tokens = [lemmatizer.lemmatize(token) for token in tokens]\n",
    "    return ' '.join(tokens)"
   ]
  },
  {
   "cell_type": "code",
   "execution_count": 8,
   "metadata": {
    "_cell_guid": "4cb63948-d26c-4b9b-9258-6668be18684b",
    "_uuid": "7953cfdd-2575-45bf-9a9e-d717f09d1ea9"
   },
   "outputs": [],
   "source": [
    "stopword_list = nltk.corpus.stopwords.words('english')\n",
    "def remove_stopwords(text):\n",
    "    tokenizer = ToktokTokenizer()\n",
    "    tokens = tokenizer.tokenize(text)\n",
    "    tokens = [token.strip() for token in tokens]\n",
    "    filtered_tokens = [token for token in tokens if token.lower() not in stopword_list]\n",
    "    filtered_text = ' '.join(filtered_tokens)\n",
    "    return filtered_text"
   ]
  },
  {
   "cell_type": "code",
   "execution_count": 9,
   "metadata": {
    "_cell_guid": "42c8652d-faf9-4cd7-8961-b0742c550e47",
    "_uuid": "8ab43735-8c9d-4ce5-ac7c-3c95bab22c1f"
   },
   "outputs": [],
   "source": [
    "def remove_emoji(text):\n",
    "    emoji_pattern = re.compile(\"[\"\n",
    "                           u\"\\U0001F600-\\U0001F64F\"  # emoticons\n",
    "                           u\"\\U0001F300-\\U0001F5FF\"  # symbols & pictographs\n",
    "                           u\"\\U0001F680-\\U0001F6FF\"  # transport & map symbols\n",
    "                           u\"\\U0001F1E0-\\U0001F1FF\"  # flags (iOS)\n",
    "                           u\"\\U00002702-\\U000027B0\"\n",
    "                           u\"\\U000024C2-\\U0001F251\"\n",
    "                           \"]+\", flags=re.UNICODE)\n",
    "    return emoji_pattern.sub(r'', text)"
   ]
  },
  {
   "cell_type": "code",
   "execution_count": 10,
   "metadata": {
    "_cell_guid": "d7880762-ce57-4530-b0d6-5b4f2b5fc682",
    "_uuid": "2dbde3f3-afe8-4f74-9728-e65869c15a59"
   },
   "outputs": [],
   "source": [
    "def remove_html(text):\n",
    "    html=re.compile(r'<.*?>')\n",
    "    return html.sub(r'',text)"
   ]
  },
  {
   "cell_type": "code",
   "execution_count": 11,
   "metadata": {
    "_cell_guid": "6e96088f-cfd9-4fb8-acc1-fa611fcb4e5f",
    "_uuid": "ddc2e319-7742-4eca-9063-3c456d959c66"
   },
   "outputs": [],
   "source": [
    "def remove_URL(text):\n",
    "    url = re.compile(r'https?://\\S+|www\\.\\S+')\n",
    "    return url.sub(r'',text)"
   ]
  },
  {
   "cell_type": "code",
   "execution_count": 12,
   "metadata": {
    "_cell_guid": "8ac313d4-30f1-4523-a79b-2160ae75382e",
    "_uuid": "a96b0355-d777-4233-8f2f-6a56f4241ecc"
   },
   "outputs": [],
   "source": [
    "def clean_sentence(x):\n",
    "    x = x.lower()\n",
    "    x = remove_stopwords(x)\n",
    "    x = lemma_text(x)\n",
    "    x= stem_text(x)\n",
    "    x= remove_emoji(x)\n",
    "    x= remove_URL(x)\n",
    "    return x"
   ]
  },
  {
   "cell_type": "code",
   "execution_count": 13,
   "metadata": {
    "_cell_guid": "58edbb37-b262-4644-8acd-6ff6f0f0f385",
    "_uuid": "e89d28ad-c23d-4178-bcb3-0d3e9b0b030f"
   },
   "outputs": [],
   "source": [
    "def cross_val_score(model,train,y):\n",
    "    scores=model_selection.cross_val_score(model,train,y['target'], cv=5, scoring=\"f1\")\n",
    "    return scores.mean()\n",
    "#scores = model_selection.cross_val_score(gnb, train_tfidf, train_df[\"target\"], cv=5, scoring=\"f1\")"
   ]
  },
  {
   "cell_type": "code",
   "execution_count": 14,
   "metadata": {
    "_cell_guid": "a40ffc5f-4a68-4688-9787-53fdeb0baeb3",
    "_uuid": "e03a7550-d417-470d-990b-3704e5762329"
   },
   "outputs": [],
   "source": [
    "train_df['text']=train_df['text'].apply(clean_sentence)\n",
    "test_df['text']=test_df['text'].apply(clean_sentence)"
   ]
  },
  {
   "cell_type": "code",
   "execution_count": 15,
   "metadata": {
    "_cell_guid": "8d79d4ab-a7b7-41c3-a30f-a48816b7fa8a",
    "_uuid": "f746b1b0-e8f8-4630-96fe-c79a0143b2ff"
   },
   "outputs": [],
   "source": [
    "train_df['tweet_length'] = train_df['text'].apply(lambda x: len(x))\n",
    "test_df['tweet_length'] = test_df['text'].apply(lambda x: len(x))"
   ]
  },
  {
   "cell_type": "code",
   "execution_count": 16,
   "metadata": {
    "_cell_guid": "52777aeb-6ded-409c-b2b1-752aa684be80",
    "_uuid": "d17c27a7-d88e-4508-ada1-c65df5d9d3c0"
   },
   "outputs": [],
   "source": [
    "tfidf = TfidfVectorizer(min_df=2, max_df=0.5, ngram_range=(1, 2))\n",
    "train_tfidf = tfidf.fit_transform(train_df['text']).toarray()\n",
    "test_tfidf = tfidf.transform(test_df[\"text\"]).toarray()"
   ]
  },
  {
   "cell_type": "code",
   "execution_count": 17,
   "metadata": {
    "_cell_guid": "e4e9c370-7a17-4280-8b4c-9ca69594d883",
    "_uuid": "4adb3e3f-1246-4868-ad58-c49b740ae576"
   },
   "outputs": [],
   "source": [
    "cnt_vectorizer = CountVectorizer(dtype=np.float32,\n",
    "            strip_accents='unicode', analyzer='word',token_pattern=r'\\w{1,}',\n",
    "            ngram_range=(1, 3),min_df=3)\n",
    "\n",
    "\n",
    "# we fit count vectorizer to get ngrams from both train and test data.\n",
    "cnt_vectorizer.fit(list(train_df.text.values) + list(test_df.text.values))\n",
    "\n",
    "xtrain_cntv =  cnt_vectorizer.transform(train_df.text.values).toarray() \n",
    "xtest_cntv = cnt_vectorizer.transform(test_df.text.values).toarray()"
   ]
  },
  {
   "cell_type": "code",
   "execution_count": 18,
   "metadata": {
    "_cell_guid": "5e9800b1-1155-49bd-bca2-d30b4f7d3f51",
    "_uuid": "3e4c17d6-2ab8-4fed-8ddb-3156e9335a22"
   },
   "outputs": [],
   "source": [
    "#using Tf-idf+Naive Bayes\n",
    "y_train = train_df.target.values\n",
    "gnb=GaussianNB()\n",
    "y_pred_gnb = gnb.fit(train_tfidf,y_train).predict(test_tfidf)"
   ]
  },
  {
   "cell_type": "code",
   "execution_count": 19,
   "metadata": {
    "_cell_guid": "dd5a7a74-f337-403d-97ae-203bdcfe954d",
    "_uuid": "df493580-1c31-4836-9d16-aa26d493d58b"
   },
   "outputs": [],
   "source": [
    "#using naives_bayes+countvectorizer\n",
    "y_train = train_df.target.values\n",
    "gnb_cntv=GaussianNB()\n",
    "y_pred_gnb_cntv = gnb.fit(xtrain_cntv,y_train).predict(xtest_cntv)"
   ]
  },
  {
   "cell_type": "code",
   "execution_count": 20,
   "metadata": {
    "_cell_guid": "24ca6efb-5a91-4a76-a936-5b42f29f4da4",
    "_uuid": "f29bcc5f-1b70-4032-82ed-092888f7e509"
   },
   "outputs": [
    {
     "data": {
      "text/plain": [
       "0.5923275291458686"
      ]
     },
     "execution_count": 20,
     "metadata": {},
     "output_type": "execute_result"
    }
   ],
   "source": [
    "#cross validation score for naives_bayes+tf-idf\n",
    "cross_val_score(gnb,train_tfidf,train_df)"
   ]
  },
  {
   "cell_type": "code",
   "execution_count": 21,
   "metadata": {
    "_cell_guid": "20e9347f-3144-4fd4-aa96-7356aca7e40e",
    "_uuid": "103cff50-7143-486b-8cb7-7e0648cab216"
   },
   "outputs": [
    {
     "data": {
      "text/plain": [
       "0.5793943698511692"
      ]
     },
     "execution_count": 21,
     "metadata": {},
     "output_type": "execute_result"
    }
   ],
   "source": [
    "#cross validation score for naives_bayes+countvectorizer\n",
    "cross_val_score(gnb_cntv,xtrain_cntv,train_df)"
   ]
  },
  {
   "cell_type": "code",
   "execution_count": 22,
   "metadata": {
    "_cell_guid": "683d9371-1631-4483-9d6b-7aca345c3654",
    "_uuid": "0fc4f5a0-565c-4304-b1f9-627fd4f2e182"
   },
   "outputs": [
    {
     "data": {
      "text/plain": [
       "LogisticRegression(C=1.0, class_weight=None, dual=False, fit_intercept=True,\n",
       "                   intercept_scaling=1, l1_ratio=None, max_iter=300,\n",
       "                   multi_class='warn', n_jobs=None, penalty='l2',\n",
       "                   random_state=None, solver='lbfgs', tol=0.0001, verbose=0,\n",
       "                   warm_start=False)"
      ]
     },
     "execution_count": 22,
     "metadata": {},
     "output_type": "execute_result"
    }
   ],
   "source": [
    "lg= linear_model.LogisticRegression(solver='lbfgs',max_iter=300)\n",
    "lg.fit(xtrain_cntv,y_train)"
   ]
  },
  {
   "cell_type": "code",
   "execution_count": 23,
   "metadata": {
    "_cell_guid": "16dc86bd-d99e-4076-91d4-6a1e02331ee0",
    "_uuid": "6aec0e94-2482-49f9-be3b-08def5cd05b0"
   },
   "outputs": [],
   "source": [
    "predictions=lg.predict(xtest_cntv)"
   ]
  },
  {
   "cell_type": "code",
   "execution_count": 24,
   "metadata": {
    "_cell_guid": "9cc08be2-72cd-42cc-b3ca-7e4307a3935d",
    "_uuid": "d0830cd4-b73d-4990-83c8-9861b78e77e6"
   },
   "outputs": [
    {
     "data": {
      "text/plain": [
       "0.5972225641431612"
      ]
     },
     "execution_count": 24,
     "metadata": {},
     "output_type": "execute_result"
    }
   ],
   "source": [
    "cross_val_score(lg,xtrain_cntv,train_df)"
   ]
  },
  {
   "cell_type": "code",
   "execution_count": 25,
   "metadata": {
    "_cell_guid": "202b79b6-3baa-4703-a96f-47397d0f09bc",
    "_uuid": "efd8f086-08de-4410-af8b-7513af973682"
   },
   "outputs": [
    {
     "data": {
      "text/plain": [
       "LogisticRegression(C=1.0, class_weight=None, dual=False, fit_intercept=True,\n",
       "                   intercept_scaling=1, l1_ratio=None, max_iter=300,\n",
       "                   multi_class='warn', n_jobs=None, penalty='l2',\n",
       "                   random_state=None, solver='lbfgs', tol=0.0001, verbose=0,\n",
       "                   warm_start=False)"
      ]
     },
     "execution_count": 25,
     "metadata": {},
     "output_type": "execute_result"
    }
   ],
   "source": [
    "lg.fit(train_tfidf,y_train)"
   ]
  },
  {
   "cell_type": "code",
   "execution_count": 26,
   "metadata": {
    "_cell_guid": "11bb6151-02bc-4bdc-ad59-66612513edc6",
    "_uuid": "063b30a4-0cd4-4c26-93eb-e7c289187363"
   },
   "outputs": [
    {
     "data": {
      "text/plain": [
       "0.5671710047296203"
      ]
     },
     "execution_count": 26,
     "metadata": {},
     "output_type": "execute_result"
    }
   ],
   "source": [
    "cross_val_score(lg,train_tfidf,train_df)"
   ]
  },
  {
   "cell_type": "code",
   "execution_count": 27,
   "metadata": {},
   "outputs": [],
   "source": [
    "final_predict=lg.predict(test_tfidf)"
   ]
  },
  {
   "cell_type": "code",
   "execution_count": 28,
   "metadata": {
    "_cell_guid": "6919411f-b977-441a-87ff-518479121995",
    "_uuid": "803b558d-d45a-4ea1-85fd-f9bbe2a6899b"
   },
   "outputs": [],
   "source": [
    "from nltk.tokenize import word_tokenize\n",
    "train_df['tokens']=train_df['text'].apply(lambda x: word_tokenize(x))\n",
    "test_df['tokens'] = test_df['text'].apply(lambda x: word_tokenize(x))"
   ]
  },
  {
   "cell_type": "code",
   "execution_count": 29,
   "metadata": {
    "_cell_guid": "7f171d18-1b51-4298-af5c-9d698dc1d1ae",
    "_uuid": "46b9f08c-4301-4b00-8f3c-80fa55bee361"
   },
   "outputs": [],
   "source": [
    "# # defining parameter range \n",
    "# param_grid = {'C': [0.1, 1, 10, 100, 1000],  \n",
    "#               'gamma': [1, 0.1, 0.01, 0.001, 0.0001], \n",
    "#               'kernel': ['rbf']}  \n",
    "  \n",
    "# grid = GridSearchCV(SVC(), param_grid, refit = True, verbose = 3) \n",
    "  \n",
    "# # fitting the model for grid search \n",
    "# grid.fit(xtrain_cntv, y_train)"
   ]
  },
  {
   "cell_type": "code",
   "execution_count": 30,
   "metadata": {
    "_cell_guid": "d00c314f-936a-4113-89c4-f77049a64974",
    "_uuid": "1235f58a-c276-43ea-878d-920435046f3c"
   },
   "outputs": [],
   "source": [
    "def fn_pre_process_data(doc):\n",
    "    for rec in doc:\n",
    "        yield gensim.utils.simple_preprocess(rec)\n",
    "\n",
    "corpus = list(fn_pre_process_data(train_df['text']))\n",
    "corpus += list(fn_pre_process_data(test_df['text']))"
   ]
  },
  {
   "cell_type": "code",
   "execution_count": 31,
   "metadata": {
    "_cell_guid": "22f36420-01d2-4775-a153-9b0ec88c128e",
    "_uuid": "eaaefd92-de1c-4507-b28f-6db186cca550"
   },
   "outputs": [
    {
     "data": {
      "text/plain": [
       "['forest', 'fire', 'near', 'la', 'rong', 'sask', 'canada']"
      ]
     },
     "execution_count": 31,
     "metadata": {},
     "output_type": "execute_result"
    }
   ],
   "source": [
    "corpus[1]"
   ]
  },
  {
   "cell_type": "code",
   "execution_count": 32,
   "metadata": {
    "_cell_guid": "5ed1ffb8-474b-4ebf-b663-f211d21124f5",
    "_uuid": "1d422462-d320-40c4-a7af-b62067599e39"
   },
   "outputs": [
    {
     "name": "stdout",
     "output_type": "stream",
     "text": [
      "initiated ...\n"
     ]
    },
    {
     "data": {
      "text/plain": [
       "(876661, 997010)"
      ]
     },
     "execution_count": 32,
     "metadata": {},
     "output_type": "execute_result"
    }
   ],
   "source": [
    "from gensim.models import Word2Vec\n",
    "\n",
    "print('initiated ...')\n",
    "wv_model = Word2Vec(corpus,size=300,window=3,min_count=2)\n",
    "wv_model.train(corpus,total_examples=len(corpus),epochs=10)"
   ]
  },
  {
   "cell_type": "code",
   "execution_count": 33,
   "metadata": {
    "_cell_guid": "321dd3d8-bea4-44e2-af4c-e85d48fc2e5c",
    "_uuid": "cfb98973-88e2-4181-99ac-9d1e5152ed80"
   },
   "outputs": [
    {
     "name": "stdout",
     "output_type": "stream",
     "text": [
      "['deed', 'reason', 'earthquak', 'may', 'allah', 'forgiv', 'forest', 'fire', 'near', 'la', 'canada', 'resid', 'ask', 'shelter', 'place', 'evacu', 'order', 'expect', 'peopl', 'receiv', 'wildfir', 'california', 'got', 'sent', 'photo', 'rubi', 'alaska', 'smoke', 'pour', 'school', 'rockyfir', 'updat', 'hwy', 'close', 'direct', 'due', 'lake', 'counti', 'cafir', 'flood', 'disast', 'heavi', 'rain', 'caus', 'flash', 'street', 'colorado', 'spring', 'area', 'top', 'hill', 'see', 'wood', 'emerg', 'happen', 'build', 'across', 'afraid', 'tornado', 'come', 'three', 'die', 'heat', 'wave', 'far', 'haha', 'south', 'tampa', 'get', 'hah', 'wait', 'second', 'live', 'gonna', 'florida', 'days', 'lost', 'count', 'bago', 'myanmar', 'we', 'arriv', 'damag', 'bus', 'multi', 'car', 'crash', 'break', 'man', 'love', 'fruit', 'summer', 'fast', 'ridicul', 'london', 'cool', 'ski', 'wonder', 'day', 'way', 'eat', 'shit', 'nyc', 'last', 'week', 'girlfriend', 'like', 'pasta', 'end', 'wholesal', 'market', 'ablaz', 'alway', 'tri', 'bring', 'metal', 'rt', 'news', 'nigeria', 'flag', 'set', 'aba', 'cri', 'plus', 'side', 'look', 'sky', 'night', 'mufc', 'built', 'much', 'hype', 'around', 'new', 'acquisit', 'doubt', 'season', 'inec', 'offic', 'abia', 'jamaica', 'ûò', 'two', 'santa', 'cruz', 'ûó', 'head', 'st', 'elizabeth', 'polic', 'superintend', 'lord', 'check', 'nsfw', 'outsid', 'aliv', 'dead', 'insid', 'awesom', 'time', 'visit', 'cfc', 'site', 'ablaze', 'thank', 'tita', 'vida', 'take', 'care', 'soooo', 'pump', 'want', 'chicago', 'preach', 'hotel', 'gain', 'follow', 'know', 'stat', 'grow', 'west', 'burn', 'thousand', 'alon', 'perfect', 'life', 'leav', 'first', 'in', 'quit', 'weird', 'better', 'use', 'wear', 'everi', 'singl', 'next', 'year', 'least', 'deputi', 'shot', 'brighton', 'home', 'wife', 'six', 'jail', 'niec', 'salmon', 'arsonist', 'black', 'church', 'north', 'el', 'happi', 'train', 'hard', 'kurd', 'turkmen', 'later', 'other', 'vandal', 'front', 'truck', 'ave', 'intl', 'cargo', 'section', 'heart', 'citi', 'gift', 'kiss', 'upon', 'lip', 'û_', 'tonight', 'los', 'ig', 'fb', 'fill', 'sunset', 'peep', 'climat', 'energi', 'revel', 'wmv', 'video', 'mean', 'mac', 'en', 'rout', 'dvd', 'progress', 'greet', 'month', 'student', 'would', 'pen', 'torch', 'public', 'rene', 'amp', 'secret', 'fallen', 'edit', 'mar', 'steve', 'someth', 'els', 'clown', 'hood', 'nowplay', 'ian', 'buff', 'magnitud', 'edm', 'huge', 'talk', 'go', 'make', 'work', 'kid', 'cuz', 'bicycl', 'accid', 'split', 'imposs', 'michael', 'father', 'traffic', 'move', 'slower', 'usual', 'center', 'lane', 'block', 'us', 'nb', 'great', 'america', 'pkwi', 'read', 'advic', 'solicitor', 'help', 'speed', 'among', 'teen', 'tee', 'report', 'motor', 'vehicl', 'rd', 'involv', 'overturn', 'vehicle', 'pleas', 'awar', 'mile', 'marker', 'mooresvill', 'iredel', 'pm', 'sleep', 'pill', 'doubl', 'risk', 'knew', 'gon', 'av', 'pastor', 'scene', 'owner', 'rang', 'rover', 'mom', 'wish', 'that', 'horribl', 'past', 'sunday', 'final', 'abl', 'god', 'piss', 'donni', 'tell', 'anoth', 'interst', 'click', 'gt', 'sb', 'sr', 'carolina', 'motorcyclist', 'dy', 'cross', 'motorcycl', 'rider', 'travel', 'fyi', 'cad', 'properti', 'nh', 'piner', 'horndal', 'dr', 'years', 'turn', 'onto', 'mma', 'taxi', 'ram', 'halfway', 'turned', 'everyon', 'left', 'manchest', 'stop', 'back', 'delay', 'min', 'th', 'injuri', 'actress', 'fat', 'alberta', 'backup', 'right', 'exit', 'consid', 'nc', 'altern', 'chang', 'determin', 'option', 'financi', 'support', 'plan', 'on', 'treatment', 'today', 'detail', 'your', 'state', 'even', 'fuck', 'mf', 'drive', 'previous', 'road', 'kill', 'explos', 'still', 'heard', 'leader', 'kenya', 'forward', 'comment', 'issu', 'aftershock_delo', 'scuf', 'game', 'effort', 'pain', 'win', 'roger', 'ir', 'icemoon', 'aftershock', 'djicemoon', 'dubstep', 'trapmus', 'dnb', 'danc', 'ices', 'victori', 'bargain', 'basement', 'prices', 'dwight', 'david', 'eisenhow', 'nobodi', 'rememb', 'came', 'charl', 'im', 'speak', 'someon', 'xb', 'also', 'conflict', 'glorious', 'triumph', 'thoma', 'clay', 'shoot', 'guess', 'one', 'actual', 'free', 'tc', 'terrifi', 'best', 'roller', 'coaster', 'ever', 'minut', 'daili', 'habit', 'could', 'realli', 'improv', 'mani', 'alreadi', 'protect', 'profit', 'global', 'meltdown', 'http', 'moment', 'scari', 'guy', 'behind', 'scream', 'bloodi', 'murder', 'full', 'stream', 'youtub', 'book', 'sometim', 'face', 'difficulti', 'wrong', 'joel', 'thing', 'stand', 'dream', 'belief', 'possible', 'brown', 'ministri', 'now', 'avoid', 'trap', 'think', 'lose', 'job', 'orang', 'never', 'bb', 'kick', 'say', 'cannot', 'done', 'interrupt', 'it', 'georg', 'shaw', 'shell', 'andrew', 'anyon', 'need', 'play', 'hybrid', 'slayer', 'ps', 'eu', 'hmu', 'cod', 'expert', 'franc', 'begin', 'examin', 'airplan', 'debri', 'found', 'reunion', 'island', 'french', 'air', 'strict', 'liabil', 'context', 'pilot', 'error', 'common', 'aviat', 'cr', 'lifetim', 'odd', 'wedn', 'awwww', 'good', 'famili', 'member', 'bin', 'laden', 'iron', 'gov', 'suspect', 'engin', 'via', 'wing', 'ocampo', 'coahuila', 'mexico', 'juli', 'four', 'men', 'includ', 'govern', 'offici', 'wednesday', 'began', 'kca', 'votejkt', 'id', 'rip', 'almost', 'cowork', 'nude', 'mode', 'might', 'wreck', 'polit', 'mlb', 'insane', 'airport', 'aircraft', 'runway', 'airplaneåê', 'natur', 'plane', 'festiv', 'death', 'dtn', 'brazil', 'exp', 'wtf', 'can', 'ûªt', 'believ', 'eye', 'victim', 'ago', 'littl', 'bit', 'trauma', 'her', 'although', 'omg', 'this', 'bro', 'bo', 'phone', 'ship', 'accident', 'terribl', 'statist', 'cop', 'hous', 'drone', 'worri', 'esp', 'vicin', 'earli', 'wake', 'call', 'sister', 'beg', 'ride', 'ambul', 'hospit', 'twelv', 'fear', 'pakistani', 'helicopt', 'serious', 'lorri', 'reuter', 'yugvani', 'lead', 'servic', 'bos', 'welcom', 'chariti', 'incident', 'halt', 'sprinter', 'automat', 'frontlin', 'choic', 'lez', 'compliant', 'ebay', 'nanotech', 'devic', 'target', 'destroy', 'blood', 'clot', 'hella', 'crazi', 'fight', 'coupl', 'pit', 'run', 'lucki', 'til_now', 'fouseytub', 'ok', 'ambulance', 'hahahah', 'pakistan', 'nine', 'medic', 'assist', 'ny', 'petit', 'per', 'hour', 'minimum', 'wage', 'ûª', 'em', 'paramed', 'park', 'lot', 'said', 'lt', 'ûï', 'dog', 'respond', 'dual', 'siren', 'and', 'worldnew', 'number', 'bodi', 'surpris', 'clinic', 'practic', 'trust', 'walk', 'pass', 'hate', 'episod', 'trunk', 'annihil', 'show', 'nigga', 'merci', 'shall', 'laid', 'bare', 'urib', 'baseball', 'met', 'hey', 'meet', 'celtic', 'inde', 'career', 'compet', 'ab', 'status', 'educ', 'behalf', 'easi', 'to', 'luka', 'everyth', 'aloi', 'tranci', 'un', 'fella', 'sorri', 'pull', 'drunk', 'driver', 'safeti', 'hit', 'viralspel', 'must', 'boom', 'countri', 'entir', 'britain', 'well', 'sure', 'promis', 'israel', 'annihilated', 'horror', 'iran', 'sinc', 'spent', 'histori', 'instant', 'becam', 'abil', 'whole', 'human', 'tryout', 'went', 'fact', 'quick', 'short', 'ball', 'arabian', 'hunters', 'readi', 'weather', 'philip', 'thought', 'forecast', 'domain', 'up', 'the', 'feat', 'seen', 'priest', 'rob', 'scorpion', 'gig', 'skip', 'fantasticfour', 'whatev', 'hashtag', 'is', 'bummer', 'tomcatart', 'thus', 'explain', 'case', 'survivor', 'evolv', 'complet', 'paul', 'keegan', 'legion', 'imperfect', 'project', 'form', 'cell', 'match', 'brock', 'syrian', 'armi', 'grind', 'gang', 'pile', 'food', 'bc', 'pickl', 'fri', 'fun', 'happy', 'bar', 'apart', 'hell', 'fraction', 'total', 'destruct', 'usa', 'potus', 'mayb', 'pres', 'sold', 'river', 'civil', 'nation', 'tonto', 'salt', 'wild', 'hors', 'world', 'self', 'transform', 'alien', 'attack', 'extermin', 'sign', 'share', 'save', 'arizona', 'without', 'org', 'thx', 'soul', 'punish', 'mention', 'major', 'voic', 'gilbert', 'reject', 'law', 'fals', 'prophet', 'imprison', 'fuel', 'jeb', 'christi', 'le', 'away', 'allow', 'az', 'wildhors', 'sing', 'long', 'current', 'nova', 'tie', 'join', 'zone', 'johnni', 'taylor', 'soon', 'ohh', 'surviv', 'apocalyps', 'feel', 'poor', 'boy', 'child', 'birthday', 'adapt', 'watch', 'charli', 'film', 'august', 'red', 'zombi', 'stage', 'kinda', 'hot', 'radio', 'diseas', 'start', 'everyone', 'lol', 'gf', 'question', 'apocalypse', 'version', 'minecraft', 'mod', 'bob', 'wither', 'showcas', 'popularmmo', 'vi', 'snow', 'spirit', 'angel', 'took', 'enorm', 'high', 'mountain', 'imagin', 'convers', 'mo', 'planet', 'lone', 'audienc', 'dad', 'bought', 'scienc', 'doc', 'impend', 'indeed', 'peak', 'dystopian', 'movi', 'scare', 'here', 'storm', 'cairo', 'latest', 'xv', 'give', 'bad', 'name', 'pierc', 'gmt', 'dark', 'reveal', 'queen', 'shadow', 'box', 'enjoy', 'act', 'titan', 'poster', 'remind', 'fresh', 'clean', 'pbban', 'temporari', 'armageddon', 'xp', 'vid', 'doublecup', 'trubgm', 'prod', 'thisizbwright', 'ouvindo', 'peac', 'bed', 'unless', 'revolut', 'microsoft', 'xbox', 'seri', 'truelov', 'romanc', 'lith', 'voodoo', 'seduct', 'astrolog', 'rtrrt', 'lotz', 'beat', 'flawless', 'ben', 'affleck', 'girl', 'coat', 'hand', 'worn', 'certainti', 'bear', 'sens', 'occas', 'spi', 'hidden', 'door', 'nsa', 'data', 'mine', 'softwar', 'blog', 'sketch', 'base', 'tast', 'tos', 'luck', 'tomorrow', 'point', 'plz', 'rohnertparkdp', 'justic', 'depart', 'paid', 'incom', 'tax', 'yr', 'vladimir', 'putin', 'warn', 'late', 'escap', 'kingdom', 'heaven', 'rule', 'earth', 'entertain', 'monkey', 'sixth', 'auction', 'let', 'karnythia', 'prepar', 'toddler', 'prepper', 'doomsday', 'librari', 'collect', 'cd', 'again', 'yesterday', 'saw', 'hail', 'sad', 'window', 'ethic', 'avert', 'ultimalucha', 'ww', 'blueprint', 'extrem', 'impress', 'european', 'till', 'christma', 'christian', 'unit', 'jew', 'convert', 'lee', 'comedi', 'class', 'tori', 'chart', 'prove', 'crisi', 'part', 'econom', 'collaps', 'track', 'robert', 'russia', 'light', 'funni', 'staff', 'finger', 'eh', 'beyonc', 'pick', 'fan', 'beyhiv', 'direction', 'sosfam', 'slight', 'intrigu', 'friend', 'code', 'salvat', 'host', 'ralli', 'vote', 'round', 'billboard', 'lion', 'hero', 'tv', 'review', 'dial', 'analog', 'quartz', 'wrist', 'sport', 'blue', 'nylon', 'fabric', 'rea', 'victorinox', 'swiss', 'date', 'woman', 'rubber', 'mop', 'indian', 'ki', 'ìñ', 'da', 'mtvsummerstar', 'videoveranomtv', 'mtvhottest', 'britney', 'spear', 'lana', 'del', 'rey', 'jackson', 'hope', 'felon', 'satan', 'wwi', 'wwii', 'japanes', 'navi', 'militari', 'japan', 'leather', 'war', 'mido', 'appoint', 'richard', 'learn', 'ap', 'violent', 'control', 'jewish', 'terrorist', 'charg', 'arson', 'ugli', 'truth', 'spokan', 'author', 'struggl', 'solv', 'hamilton', 'attend', 'organ', 'protest', 'add', 'familia', 'squad', 'fake', 'crime', 'lesbian', 'down', 'link', 'caught', 'northern', 'newsintweet', 'mourn', 'notic', 'stab', 'stir', 'grief', 'sound', 'gay', 'admit', 'scheme', 'lgbt', 'what', 'trial', 'burglari', 'palestinian', 'crack', 'amid', 'kisii', 'hunt', 'fail', 'plot', 'countynew', 'mariah', 'thick', 'shoulder', 'shira', 'banki', 'latim', 'pray', 'treat', 'theadvocatemag', 'tennesse', 'dc', 'cloudy_goldrush', 'white', 'mc', 'arsonistmus', 'alleg', 'east', 'bay', 'serial', 'arrest', 'safyuan', 'minor', 'citat', 'calif', 'local_arsonist', 'diamorfiend', 'legal', 'system', 'forget', 'casper_rmg', 'dick', 'at', 'anyth', 'nice', 'sit', 'vegetarian', 'popular', 'bk', 'restaur', 'fires', 'headlin', 'veronicadlcruz', 'captur', 'remov', 'american', 'beach', 'ca', 'trick', 'nasti', 'town', 'salem', 'melt', 'ice', 'blame', 'blaze', 'plastic', 'recycl', 'busi', 'reports', 'produc', 'chuck', 'lmfao', 'cant', 'newyork', 'drink', 'green', 'court', 'lmao', 'real', 'frank', 'elliott', 'plead', 'guilti', 'hire', 'terror', 'invit', 'brigad', 'telegraph', 'big', 'true', 'stori', 'miss', 'stay', 'liberti', 'constant', 'credit', 'inspir', 'rediscov', 'tbt', 'nashvill', 'theater', 'gun', 'grabber', 'demand', 'ûïhatchet', 'post', 'udhampur', 'demi', 'stan', 'million', 'copi', 'nuclear', 'isil', 'claim', 'suicid', 'bomb', 'saudi', 'mosqu', 'funniest', 'twitter', 'feminist', 'horrif', 'muslim', 'itali', 'blast', 'accus', 'yakub', 'karachi', 'mumbai', 'milit', 'psycholog', 'spos', 'injur', 'obama', 'gave', 'weapon', 'texa', 'delhi', 'provid', 'acid', 'privat', 'steal', 'user', 'internet', 'isra', 'forc', 'raid', 'palestin', 'goat', 'rocket', 'okay', 'lie', 'senior', 'diamond', 'graveyard', 'shift', 'defend', 'idiot', 'volleybal', 'ii', 'machin', 'simul', 'notley', 'yet', 'respons', 'harper', 'yeah', 'premier', 'cdnpoli', 'theatr', 'homeless', 'so', 'damn', 'india', 'evid', 'pak', 'they', 'shar', 'oth', 'illeg', 'releas', 'dh', 'rape', 'maria', 'prior', 'offens', 'strong', 'condemn', 'ari', 'team', 'simpli', 'atom', 'mental', 'group', 'gop', 'prevent', 'cyber', 'yay', 'nwo', 'anxieti', 'gunfight', 'envw', 'nickcocofre', 'juliedicaro', 'jdabe', 'ci', 'femal', 'somehow', 'transgend', 'medium', 'civilian', 'gaza', 'exercis', 'greec', 'templ', 'mount', 'pamela', 'geller', 'pt', 'scholar', 'youth', 'southern', 'patrick', 'cab', 'ik', 'troll', 'pol', 'rival', 'liter', 'abus', 'worst', 'person', 'kelli', 'racist', 'donald', 'trump', 'remark', 'latino', 'view', 'chill', 'answer', 'calm', 'robot', 'lvl', 'earn', 'satoshi', 'robotcoingam', 'bitcoin', 'freebitcoin', 'tweet', 'program', 'flew', 'uranium', 'fukushima', 'dig', 'things', 'avalanch', 'defens', 'loui', 'kall', 'mattson', 'shirt', 'xl', 'cotton', 'nhl', 'hockey', 'tix', 'frozen', 'furi', 'xvii', 'king', 'row', 'aa', 'mgm', 'grand', 'bet', 'didnt', 'piec', 'wrote', 'design', 'appreci', 'upper', 'deck', 'made', 'musician', 'recreat', 'classic', 'album', 'cover', 'clever', 'music', 'beauti', 'sweet', 'faith', 'rose', 'calgari', 'flame', 'col', 'preseason', 'inner', 'communic', 'respect', 'creat', 'worth', 'len', 'fall', 'leaf', 'poplar', 'fulli', 'tumbl', 'punk', 'band', 'origin', 'perform', 'chip', 'ga', 'saver', 'chevi', 'tahoe', 'blazer', 'avalanche', 'tank', 'snipe', 'chevrolet', 'lift', 'favorit', 'sen', 'deal', 'rudd', 'gordon', 'princ', 'googl', 'purchas', 'draft', 'rapper', 'song', 'yo', 'wide', 'possibl', 'jersey', 'bts', 'incred', 'listen', 'wd', 'pickup', 'premium', 'star', 'power', 'jedi', 'battl', 'droid', 'hasbro', 'general', 'bull', 'nd', 'hampshir', 'letter', 'dragon', 'rotten', 'tomato', 'ad', 'playlist', 'bat', 'chat', 'ya', 'clip', 'cast', 'tb', 'throwback', 'mild', 'space', 'occur', 'fleet', 'taken', 'trailer', 'hole', 'saturn', 'si', 'anim', 'cbsbigbroth', 'rap', 'intern', 'extern', 'motiv', 'item', 'warcraft', 'young', 'german', 'engag', 'marvel', 'aveng', 'realize', 'attent', 'mass', 'games', 'paint', 'interest', 'lonepin', 'australia', 'descend', 'canberra', 'gallipoli', 'gari', 'son', 'dixi', 'electron', 'celebr', 'fedex', 'longer', 'transport', 'bioterror', 'germ', 'anthrax', 'lab', 'mishap', 'usatoday', 'pathogen', 'jacksonvill', 'potenti', 'tcot', 'certain', 'research', 'frontpag', 'sanctions', 'rickperri', 'cut', 'foxnew', 'gopdeb', 'commerc', 'hold', 'hear', 'cdc', 'will', 'specimen', 'appl', 'mobil', 'exclus', 'hmm', 'problem', 'select', 'agent', 'corp', 'nyse', 'fdx', 'deliv', 'packag', 'atlanta', 'chronicl', 'manufactur', 'garden', 'jax', 'journal', 'breakingnew', 'scoopit', 'biolab', 'concern', 'facil', 'action', 'sir', 'fema', 'region', 'iii', 'nasa', 'launch', 'carri', 'extens', 'handl', 'procedur', 'resourc', 'autom', 'infecti', 'blks', 'whts', 'collud', 'wht', 'usagov', 'auth', 'hostage', 'blk', 'bioterrorism', 'lgl', 'idi', 'them', 'keep', 'tale', 'virus', 'health', 'outbreak', 'homeland', 'secur', 'wire', 'contact', 'wealth', 'yea', 'cia', 'hollywood', 'vaccin', 'daughter', 'warrior', 'ft', 'aka', 'fold', 'extra', 'yes', 'not', 'colleg', 'difficult', 'volunt', 'particip', 'prepared', 'drill', 'pretti', 'list', 'gm', 'scientist', 'special', 'ebola', 'hostag', 'exist', 'younger', 'suck', 'describ', 'futur', 'therapi', 'technolog', 'sexual', 'fbi', 'abc', 'evad', 'prosecut', 'harvardu', 'kidnap', 'afp', 'irand', 'broken', 'threat', 'cdcgov', 'ahead', 'rio', 'olymp', 'test', 'event', 'crave', 'pool', 'dey', 'wanna', 'dedic', 'tour', 'fir', 'cannon', 'pendleton', 'cleveland', 'apt', 'balconi', 'jay', 'dutch', 'slave', 'trade', 'hair', 'poverti', 'fade', 'weekend', 'loss', 'old', 'rage', 'firefight', 'condo', 'babe', 'que', 'hack', 'dem', 'do', 'detain', 'ugh', 'put', 'calori', 'pizza', 'pic', 'fort', 'write', 'comput', 'mad', 'dont', 'drew', 'socialmedia', 'facebook', 'page', 'featur', 'seek', 'custom', 'experi', 'shout', 'hottest', 'dj', 'farm', 'mixtap', 'huh', 'leo', 'bedroom', 'bath', 'sale', 'palm', 'smooth', 'asf', 'coast', 'agre', 'hiphop', 'bright', 'fireman', 'parti', 'wed', 'vibez', 'listenl', 'montgomeri', 'transcend', 'trail', 'diversifi', 'morgan', 'silver', 'dollar', 'gem', 'bu', 'dmpl', 'cameo', 'rev', 'ms', 'grade', 'bowl', 'skill', 'noth', 'silenc', 'swarm', 'onlin', 'fm', 'root', 'inch', 'master', 'really', 'vocal', 'shes', 'xleak', 'ph', 'ash', 'wo', 'ladi', 'festac', 'delta', 'bbm', 'leak', 'pictur', 'oh', 'race', 'temperatur', 'roof', 'fifth', 'spanish', 'word', 'latin', 'color', 'dummi', 'pronounc', 'freez', 'cold', 'enough', 'degre', 'mid', 'sun', 'rn', 'sweat', 'bullet', 'fam', 'beyond', 'bless', 'dude', 'fantasy', 'suit', 'summertim', 'magic', 'bag', 'bother', 'doug', 'tune', 'ch', 'pl', 'rare', 'proof', 're', 'etisalat', 'mb', 'bitch', 'slap', 'cake', 'throw', 'physic', 'activ', 'bleed', 'ground', 'threw', 'chicken', 'nugget', 'throat', 'apolog', 'joe', 'gel', 'nose', 'bleeding', 'typewrit', 'written', 'bunch', 'text', 'send', 'hug', 'appar', 'fine', 'rub', 'tear', 'vampiro', 'foot', 'toe', 'step', 'glass', 'pun', 'tak', 'ear', 'cute', 'dinner', 'til', 'cam', 'safer', 'violenc', 'fell', 'concret', 'liber', 'favourit', 'charact', 'def', 'wannab', 'artist', 'brain', 'soccer', 'he', 'she', 'scratch', 'pileup', 'wise', 'te', 'timelin', 'blew', 'oomf', 'instagram', 'fowler', 'line', 'jazz', 'solar', 'prob', 'cup', 'receipt', 'wont', 'gtfo', 'desper', 'encourag', 'hw', 'me', 'told', 'lolol', 'univers', 'max', 'tf', 'rick', 'ty', 'realiz', 'snapchat', 'gambit', 'michel', 'brought', 'ron', 'hoax', 'catfish', 'retweet', 'notif', 'whistl', 'wind', 'skirt', 'everywher', 'ray', 'rice', 'fiasco', 'skin', 'honey', 'economi', 'recommend', 'conserv', 'ye', 'sean', 'zayn', 'clue', 'pair', 'blight', 'there', 'theori', 'magist', 'arent', 'dwarf', 'cycl', 'athlet', 'dope', 'exacerb', 'reward', 'search', 'requir', 'jack', 'deep', 'load', 'welfar', 'spong', 'contract', 'bank', 'height', 'shaker', 'info', 'carl', 'snuff', 'others', 'beer', 'someday', 'thda', 'anti', 'loan', 'memphi', 'level', 'iclown', 'remix', 'infin', 'achiev', 'excel', 'develop', 'matter', 'swear', 'result', 'app', 'communiti', 'polici', 'ohio', 'vacant', 'land', 'anellatulip', 'open', 'gate', 'refuge', 'tragedi', 'shame', 'articl', 'metro', 'detroit', 'estim', 'squar', 'art', 'lock', 'cunt', 'rank', 'card', 'amazon', 'buy', 'print', 'avail', 'blizzard', 'blizzard_draco', 'pay', 'nut', 'cream', 'hr', 'rock', 'rolo', 'dq', 'ashayo', 'hi', 'vod', 'present', 'dolphin', 'superstit', 'roll', 'caution', 'though', 'ight', 'peanut', 'butter', 'mic', 'announc', 'expans', 'idea', 'holi', 'triniti', 'shock', 'wod', 'disappoint', 'hardcor', 'candi', 'lizard', 'lonewolffur', 'blizzardc', 'clutch', 'ima', 'bout', 'tho', 'hearthston', 'pc', 'browni', 'batter', 'sg', 'knockout', 'biggest', 'regret', 'butterfing', 'dryer', 'snowi', 'paper', 'jean', 'pocket', 'bruh', 'dies', 'nah', 'cook', 'gone', 'wall', 'floor', 'broke', 'nail', 'morn', 'ah', 'hurt', 'kindl', 'associ', 'fragil', 'besid', 'wound', 'tattoo', 'donat', 'grandpa', 'smh', 'pressur', 'monitor', 'standard', 'larg', 'bp', 'cuff', 'guys', 'relat', 'shoe', 'super', 'people', 'phenomen', 'intend', 'hoe', 'drug', 'drown', 'document', 'somebodi', 'gotta', 'fuckin', 'thirsti', 'chapter', 'encount', 'jesus', 'royal', 'sos', 'shed', 'innoc', 'pollut', 'psalm', 'sin', 'abort', 'se', 'lightning', 'wasnt', 'everyday', 'infect', 'aggress', 'enter', 'salli', 'email', 'aw', 'xxx', 'nightmar', 'elm', 'soni', 'stephen', 'tower', 'bdisgust', 'bs', 'invas', 'insomnia', 'grrrr', 'tokyo', 'dare', 'amend', 'weekends', 'mari', 'times', 'anything', 'just', 'tired', 'everything', 'sexi', 'effect', 'low', 'product', 'diarrhea', 'ronda', 'rousey', 'floyd', 'money', 'elbow', 'landscap', 'oil', 'bark', 'hello', 'thigh', 'expos', 'mega', 'sink', 'juic', 'rs', 'friday', 'suppos', 'arm', 'chair', 'drama', 'killer', 'monday', 'marlon', 'william', 'steel', 'shuffl', 'legend', 'rather', 'shop', 'mysteri', 'blown', 'deactiv', 'manutd', 'wow', 'club', 'player', 'inning', 'woke', 'aunt', 'probabl', 'repres', 'valu', 'strike', 'lmfaoooo', 'confeder', 'crew', 'ur', 'mini', 'fli', 'salti', 'taylorswift', 'bump', 'approv', 'soldier', 'panic', 'mind', 'websit', 'todd', 'blake', 'ee', 'glad', 'half', 'ûªr', 'ûªv', 'anyway', 'buddi', 'pattern', 'sand', 'choke', 'utter', 'vanessa', 'guarante', 'mutant', 'mosquito', 'ankl', 'seat', 'butt', 'syndrom', 'toilet', 'hacker', 'whoever', 'grab', 'nicki', 'minaj', 'jame', 'amirit', 'espn', 'al', 'as', 'metaphor', 'charm', 'bash', 'bottl', 'tote', 'handbag', 'faux', 'fashion', 'purs', 'republican', 'had', 'genuin', 'messeng', 'oak', 'soft', 'buffalo', 'vuitton', 'monogram', 'sophi', 'limit', 'healthi', 'backpack', 'tan', 'cosmet', 'copper', 'pipe', 'along', 'corner', 'thin', 'hip', 'hobo', 'women', 'cage', 'find', 'saumur', 'vintag', 'satchel', 'zip', 'style', 'authent', 'å_', 'coach', 'camera', 'bid', 'fit', 'ipad', 'tablet', 'jp', 'rondarousey', 'drake', 'meek', 'tea', 'meekmil', 'rec', 'leagu', 'idgaf', 'tough', 'philli', 'yanke', 'skim', 'lyric', 'straight', 'friendship', 'togeth', 'johnson', 'score', 'cuf', 'ovofest', 'ovo', 'body', 'definit', 'capabl', 'wwe', 'ep', 'spot', 'dis', 'flow', 'mark', 'mill', 'patient', 'meanwhil', 'hush', 'record', 'file', 'kept', 'hop', 'beef', 'spit', 'lay', 'freshman', 'stacey', 'aubrey', 'danger', 'micom', 'contrast', 'po', 'bestsel', 'cartoon', 'buckl', 'casual', 'stylish', 'fossil', 'es', 'appear', 'hall', 'charlott', 'concert', 'varieti', 'pack', 'snack', 'fairfax', 'admin', 'probe', 'dept', 'footbal', 'locker', 'room', 'flower', 'chain', 'small', 'zipper', 'institut', 'peace', 'chairman', 'russian', 'va', 'administr', 'bags', 'scottwalk', 'middl', 'typic', 'giant', 'size', 'garbag', 'colour', 'bigger', 'congress', 'driving', 'sweep', 'leg', 'heal', 'you', 'ûªll', 'smile', 'geometr', 'investig', 'washington', 'canva', 'waist', 'solid', 'coffe', 'posit', 'beforeitsnew', 'deriv', 'firework', 'hiroshima', 'drop', 'guardian', 'legaci', 'editori', 'fantast', 'bye', 'troy', 'collab', 'locat', 'gunman', 'board', 'ahh', 'babi', 'mail', 'known', 'dat', 'concept', 'impact', 'ratio', 'kyle', 'taco', 'flat', 'thursday', 'anniversari', 'appropri', 'hatchet', 'wield', 'pepper', 'spray', 'amaz', 'slept', 'hutch', 'off', 'bluejay', 'bell', 'libya', 'africa', 'bombed', 'out', 'screenshot', 'islam', 'syria', 'turkey', 'cyhitheprync', 'kany', 'jet', 'main', 'dramat', 'plummet', 'civilians', 'repeat', 'turkish', 'villag', 'bathroom', 'loo', 'within', 'third', 'generat', 'exhibit', 'abu_baraa', 'toler', 'democraci', 'iraqi', 'whitehous', 'co', 'germani', 'invad', 'poland', 'pearl', 'harbor', 'pre', 'crude', 'uncl', 'afghanistan', 'kurtschlicht', 'compass', 'specif', 'tradit', 'sexist', 'nagasaki', 'forev', 'recov', 'accord', 'lauren', 'recent', 'fed', 'pkk', 'johnejefferson', 'obvious', 'flee', 'redskin', 'wr', 'belly', 'teamstream', 'pas', 'benedict', 'gif', 'background', 'ri', 'wors', 'hurricane', 'city', 'hardest', 'yard', 'dive', 'daesh', 'network', 'cryptic', 'guid', 'mission', 'schedule', 'humbl', 'novemb', 'congratul', 'indiscrimin', 'moral', 'success', 'toll', 'entrepreneur', 'nbcnew', 'push', 'justifi', 'snapharmoni', 'sanitis', 'narrat', 'bill', 'clinton', 'nato', 'generalnew', 'marshal', 'dambisa', 'moyo', 'prosyn', 'ope', 'po_st', 'ameenshaikh', 'logic', 'bridg', 'unfold', 'trent', 'cricket', 'cement', 'england', 'bundl', 'central', 'relationship', 'btwn', 'caribbean', 'kosher', 'five', 'calam', 'lambast', 'crane', 'nearbi', 'icymi', 'react', 'epic', 'johannesburg', 'aug', 'ani', 'legendari', 'australian', 'parad', 'fox', 'mp', 'distanc', 'aussi', 'stuff', 'engvaus', 'gadget', 'urgentther', 'storey', 'oworoshoki', 'mainland', 'construct', 'restor', 'rescuer', 'upgrad', 'infrastructur', 'situat', 'sustain', 'children', 'distance', 'mmmmmm', 'oooooohhhh', 'oooh', 'ooh', 'ed', 'deserv', 'themagickidrap', 'upset', 'execut', 'etc', 'kou', 'cash', 'regist', 'cjoyner', 'overlook', 'blacklivesmatt', 'fewmoretweet', 'neighbor', 'greatest', 'boxer', 'outta', 'rocki', 'threaten', 'buildings', 'largest', 'newsmorn', 'messi', 'ronaldo', 'basic', 'mainten', 'riot', 'loot', 'infosec', 'often', 'western', 'uganda', 'lit', 'pledg', 'allegi', 'embarrass', 'ruin', 'disgust', 'jealous', 'forgot', 'object', 'chase', 'weak', 'winston', 'outrag', 'rockbottomradfm', 'challeng', 'rescu', 'soak', 'alcohol', 'mat', 'gbbo', 'store', 'wit', 'explod', 'afternoon', 'equip', 'grate', 'croydon', 'crowd', 'reef', 'hazard', 'instal', 'non', 'compli', 'clad', 'webinar', 'mitig', 'et', 'blow', 'multipl', 'downtown', 'hinton', 'ton', 'ross', 'auburn', 'sever', 'detector', 'bust', 'brick', 'seven', 'differ', 'architectur', 'dam', 'estat', 'confirm', 'grenad', 'thrown', 'baffl', 'sweden', 'grill', 'ris', 'insur', 'aust', 'displac', 'fourth', 'albani', 'alarm', 'pundit', 'wmur', 'manchester', 'tip', 'expens', 'remain', 'residenti', 'prison', 'nazi', 'camp', 'seiz', 'tore', 'brother', 'swoop', 'acr', 'drift', 'glue', 'age', 'content', 'uh', 'derbi', 'popcorn', 'shower', 'flush', 'burned', 'barn', 'moon', 'chees', 'touch', 'plate', 'joke', 'fr', 'loseit', 'crusti', 'op', 'mph', 'brisk', 'pace', 'myfitnessp', 'twice', 'mcdonald', 'boyfriend', 'cloth', 'noodl', 'crap', 'figur', 'complex', 'contain', 'gettin', 'social', 'fool', 'coverag', 'all', 'pro', 'materi', 'dirt', 'bike', 'spark', 'brush', 'yall', 'bug', 'candl', 'nap', 'hermancranston', 'atk', 'letsfootbal', 'skanndtyagi', 'dere', 'skinni', 'workout', 'chris', 'john', 'except', 'idk', 'zionism', 'coil', 'attende', 'visibl', 'tucson', 'er', 'return', 'method', 'integr', 'format', 'interv', 'muscl', 'shape', 'techniqu', 'bore', 'desir', 'goals', 'lou', 'demon', 'crusad', 'boat', 'memori', 'ti', 'stack', 'appli', 'parent', 'counter', 'jerri', 'press', 'confer', 'experienc', 'influenc', 'understand', 'soup', 'diet', 'recip', 'ticket', 'parenthood', 'demonstr', 'pp', 'strut', 'bg', 'louis_tomlinson', 'stone', 'atleast', 'individu', 'rioter', 'looter', 'forestservic', 'dhsscitech', 'ûów', 'tech', 'flip', 'tabl', 'screw', 'ppl', 'sex', 'be', 'police', 'proud', 'attempt', 'beast', 'amongst', 'descript', 'monster', 'ran', 'port', 'coquitlam', 'cure', 'cancer', 'puppi', 'contempl', 'disrespect', 'striker', 'chines', 'render', 'kitten', 'burnt', 'express', 'stupid', 'brutal', 'insan', 'bush', 'safe', 'volcano', 'winter', 'sydney', 'ted', 'ûïwe', 'mitt', 'omfg', 'tini', 'freak', 'drought', 'jamaicaobserv', 'cnewsliv', 'seem', 'toke', 'traumatis', 'hillari', 'standwithpp', 'holiday', 'relax', 'spain', 'californian', 'oct', 'swim', 'water', 'of', 'scotland', 'wet', 'warm', 'catastroph', 'photograph', 'nsw', 'rural', 'affect', 'asap', 'govt', 'advis', 'egg', 'casualti', 'warfight', 'reduc', 'ban', 'prematur', 'casualties', 'evil', 'rise', 'afghan', 'intensifi', 'sharp', 'honest', 'feet', 'eventu', 'higher', 'countless', 'globe', 'account', 'yemen', 'laugh', 'sorrow', 'shooter', 'pine', 'honshu', 'oper', 'alli', 'fix', 'reach', 'purpl', 'command', 'wrap', 'pbs', 'iraq', 'ûïthe', 'pave', 'hypocrisi', 'iranian', 'idc', 'highest', 'washingtonpost', 'pertain', 'derail', 'patna', 'toronto', 'branch', 'cours', 'property', 'rate', 'movement', 'commerci', 'aid', 'ûªd', 'grown', 'cord', 'ocean', 'gray', 'whale', 'popul', 'pacif', 'critic', 'endang', 'marin', 'predict', 'qualiti', 'licens', 'denver', 'becom', 'societi', 'increas', 'arsenal', 'bound', 'chanc', 'tag', 'recal', 'industri', 'disconnect', 'shine', 'scriptettesar', 'btw', 'septemb', 'metric', 'correl', 'independ', 'setlist', 'calum', 'greenharvard', 'sosfamupdat', 'cancel', 'warship', 'repay', 'nytim', 'con', 'nuke', 'ten', 'millions', 'mix', 'sanction', 'robdelaney', 'unabl', 'migrat', 'catastrophe', 'wast', 'joy', 'suffer', 'pjnet', 'ccot', 'republ', 'continu', 'firm', 'failur', 'teacher', 'principl', 'fulfil', 'cleric', 'duti', 'iphon', 'twist', 'ultim', 'megynkelli', 'adopt', 'peterjuk', 'commit', 'silent', 'prime', 'diff', 'barri', 'solo', 'compani', 'repair', 'emot', 'mother', 'chucker', 'council', 'field', 'adjust', 'mutual', 'payday', 'promot', 'financ', 'imdb', 'hilari', 'ceo', 'temper', 'anymor', 'reckless', 'bottom', 'regular', 'rockstar', 'tire', 'wolv', 'denali', 'wolf', 'finish', 'bbc', 'studio', 'discuss', 'sheer', 'failure', 'vega', 'erupt', 'weathernetwork', 'acut', 'ptsd', 'catastrophic', 'felt', 'mistak', 'diplomaci', 'replac', 'basebal', 'manag', 'uniform', 'glove', 'thirty', 'british', 'wealthi', 'brit', 'revers', 'jamesmelvill', 'don', 'netanyahu', 'religi', 'yorker', 'excit', 'ensu', 'debt', 'audio', 'assum', 'åç', 'more', 'occurr', 'clear', 'åè', 'chemic', 'armori', 'sf', 'chem', 'illinoi', 'nu', 'sharethi', 'hazmat', 'biolog', 'radioact', 'biological', 'nbc', 'md', 'david_cameron', 'bee', 'savebe', 'krefeld', 'incid', 'underway', 'cnnbrk', 'instead', 'toxic', 'harm', 'spill', 'seattl', 'depend', 'counselor', 'gas', 'cocain', 'marijuana', 'heroin', 'alert', 'northwestern', 'term', 'obsess', 'cleanup', 'liquid', 'usar', 'evanston', 'hungri', 'fortun', 'plumb', 'draw', 'pop', 'cliff', 'neil', 'decent', 'sweati', 'slip', 'digniti', 'mate', 'fave', 'chunk', 'china', 'brian', 'rueb', 'endur', 'climb', 'bride', 'groom', 'alex', 'minion', 'favor', 'elit', 'balanc', 'snap', 'streak', 'lil', 'trip', 'landslid', 'ferri', 'knock', 'jump', 'lower', 'ha', 'cilla', 'stroke', 'easili', 'runaway', 'dublin', 'collapse', 'vinyl', 'pont', 'yahoo', 'barbar', 'reliv', 'interview', 'talkradio', 'invest', 'strategi', 'blowout', 'circus', 'tent', 'enabl', 'revenu', 'propos', 'ââ', 'price', 'absolut', 'correct', 'knee', 'reaction', 'sa', 'presid', 'oral', 'sl', 'wi', 'sham', 'exhaust', 'bailout', 'growth', 'dri', 'bite', 'roh', 'jfb', 'tfb', 'alrasyid', 'iturasya', 'smantibatam', 'pin', 'pancak', 'eco', 'ks', 'entranc', 'deutsch', 'musik', 'collapsed', 'bake', 'dorret', 'gateau', 'jan', 'catch', 'alley', 'phil', 'gravel', 'endless', 'confus', 'angri', 'burst', 'lung', 'district', 'cpr', 'tongu', 'cum', 'breath', 'zimbabw', 'entiti', 'sewer', 'heartless', 'whip', 'betray', 'closet', 'rid', 'chocol', 'heel', 'plant', 'fav', 'greek', 'cost', 'moder', 'after', 'speci', 'trusti', 'spontan', 'collid', 'rippl', 'tide', 'survive', 'cigarett', 'immedi', 'awkward', 'trek', 'pluto', 'chosen', 'shanghai', 'avenu', 'thunderstorm', 'collide', 'sat', 'veil', 'bracelet', 'wristband', 'realiti', 'strang', 'witch', 'supernatur', 'sibl', 'rivalri', 'electr', 'vancouv', 'isl', 'tlc', 'sudden', 'houston', 'åê', 'slam', 'coincid', 'spell', 'wattpad', 'either', 'simpl', 'cyclist', 'runner', 'roanok', 'greenway', 'verdict', 'podcast', 'none', 'curs', 'bik', 'portugal', 'lif', 'newswatch', 'lansdown', 'sts', 'ptbo', 'jake', 'assault', 'howev', 'punch', 'quest', 'skull', 'pleasure', 'gold', 'monsoon', 'suv', 'highway', 'wheeler', 'then', 'anna', 'harwich', 'too', 'mlg', 'junction', 'toward', 'horn', 'driven', 'exchang', 'tyre', 'happili', 'commenc', 'fish', 'dan', 'hugh', 'intersect', 'san', 'antonio', 'cart', 'guard', 'bicyclist', 'constitut', 'politic', 'justinbieb', 'oo', 'harrybecar', 'journey', 'cow', 'util', 'pole', 'victoria', 'collis', 'broadway', 'local', 'knob', 'sac', 'elkhorn', 'blvd', 'walerga', 'trfc', 'collision', 'enrt', 'rainier', 'florin', 'franklin', 'eb', 'hwi', 'cambridg', 'opp', 'ag', 'fe', 'no', 'inj', 'rear', 'spur', 'baltimor', 'mchenri', 'tunnel', 'centr', 'techesback', 'bernardino', 'southbound', 'coal', 'creek', 'innov', 'anymore', 'valley', 'unkn', 'tragic', 'occup', 'enrout', 'sacramento', 'divis', 'offramp', 'approach', 'niagara', 'removed', 'separ', 'ûïyou', 'layout', 'meinlcymb', 'endors', 'beginn', 'lesson', 'lover', 'sterlingknight', 'knight', 'alright', 'mm', 'sourc', 'pasco', 'fwi', 'moreland', 'rant', 'xoxo', 'cpanel', 'playstat', 'blair', 'feelin', 'fatal', 'photoshop', 'tool', 'cs', 'liabl', 'hoffman', 'single', 'sampl', 'download', 'tutori', 'maj', 'muzzamil', 'offr', 'mi', 'mansehra', 'microlight', 'am', 'ux', 'reader', 'uk', 'ipod', 'intact', 'mh', 'crashed', 'sea', 'euro', 'restiv', 'northwest', 'tuesday', 'log', 'strength', 'thief', 'stole', 'fled', 'doctor', 'skype', 'faster', 'type', 'ant', 'note', 'nightmarish', 'stress', 'mhtw', 'fnet', 'ashton', 'luke', 'husband', 'crush', 'wce', 'bestfriend', 'ina', 'justin', 'bieber', 'fez', 'dave', 'gorgeous', 'bouta', 'with', 'vine', 'wen', 'ive', 'sooo', 'holland', 'wrapup', 'cabl', 'disney', 'jimmyfallon', 'squirrel', 'bone', 'bio', 'worstsummerjob', 'crushed', 'gym', 'prioriti', 'ortiz', 'ouch', 'christ', 'km', 'nike', 'sportwatch', 'gps', 'nikeplus', 'papi', 'reap', 'benefit', 'nick', 'moli', 'agenc', 'dothraki', 'westero', 'jone', 'empir', 'slate', 'wine', 'thirst', 'curfew', 'perez', 'fighter', 'infiltr', 'aim', 'ypg', 'impos', 'shut', 'spend', 'campus', 'teenag', 'violat', 'stolen', 'cu', 'overtim', 'stuck', 'kodak', 'brief', 'wnd', 'cld', 'sct', 'bkn', 'inst', 'apch', 'rwi', 'taxiway', 'foxtrot', 'navbl', 'tmp', 'nope', 'tutor', 'prefer', 'grove', 'clock', 'months', 'blind', 'bloke', 'goodby', 'cat', 'decid', 'sometimes', 'freedom', 'rite', 'fi', 'di', 'knw', 'unlock', 'judg', 'walter', 'cyclon', 'annual', 'recruit', 'photographi', 'outlet', 'tropic', 'guam', 'de', 'jhaustin', 'ame', 'tribun', 'retract', 'pam', 'wordpressdotcom', 'condit', 'bulletin', 'typhoon', 'hannaph', 'soudelor', 'norman', 'ne', 'komen', 'devast', 'hanna', 'vanuatu', 'tom', 'given', 'talent', 'ignit', 'vanish', 'phantom', 'asia', 'station', 'bangladesh', 'broadcast', 'address', 'upcom', 'spin', 'mercuri', 'mould', 'core', 'cobra', 'cj', 'passion', 'emperor', 'khan', 'quarter', 'panel', 'trim', 'maximum', 'gust', 'cyclone', 'fate', 'house', 'wfp', 'na', 'rohingya', 'cherri', 'outfit', 'union', 'gta', 'yellowston', 'solut', 'complain', 'phoenix', 'windi', 'advanc', 'transit', 'drum', 'baggag', 'wy', 'fairi', 'tail', 'bradleybrad', 'af', 'playthrough', 'tree', 'homeown', 'tor', 'only', 'enhanc', 'key', 'imo', 'contractor', 'nda', 'offer', 'trillion', 'np', 'inc', 'inmat', 'withdraw', 'isi', 'damage', 'model', 'pussi', 'ass', 'boob', 'asian', 'devil', 'fluid', 'ey', 'optic', 'nerv', 'madison', 'ar', 'punctur', 'foreign', 'index', 'initi', 'blizzhero', 'wildlif', 'rockin', 'preview', 'claytonbry', 'artistsunit', 'cawx', 'eaten', 'poison', 'preserv', 'african', 'grain', 'anger', 'fettilootch', 'slanglucci', 'oppress', 'especi', 'permit', 'outnumb', 'petersburg', 'uber', 'partnership', 'ham', 'afc', 'underwat', 'cave', 'spider', 'rails', 'rest', 'complaint', 'courag', 'atmospher', 'boring', 'sake', 'born', 'attain', 'rights', 'gener', 'forbid', 'goku', 'legit', 'sore', 'lui', 'emmerdal', 'attract', 'gameplay', 'hundr', 'migrant', 'capsiz', 'misl', 'jones', 'kyl', 'askcharley', 'stark', 'debat', 'perspect', 'contribut', 'studi', 'trend', 'mikeparractor', 'bail', 'taiwan', 'moor', 'val', 'su', 'summerf', 'bff', 'grandma', 'rep', 'vibrat', 'adult', 'plagu', 'consol', 'ring', 'ferguson', 'era', 'prez', 'cousin', 'hang', 'recogn', 'same', 'certif', 'loyalti', 'shitti', 'weirdo', 'unto', 'thereof', 'arianagrand', 'screamqueen', 'katherin', 'starv', 'comparison', 'upload', 'awaken', 'cyprus', 'analysi', 'mullah', 'omar', 'taliban', 'slain', 'mexican', 'journalist', 'cecilthelion', 'hint', 'legionnair', 'measl', 'complic', 'bigamist', 'pregnant', 'nephew', 'voter', 'silence', 'palermo', 'shipwreck', 'ak', 'insa', 'rifl', 'milk', 'worldwid', 'stall', 'pedestrian', 'physician', 'ill', 'dear', 'resist', 'ironi', 'course', 'older', 'focus', 'publichealth', 'lunch', 'stewart', 'julian', 'earlier', 'provinc', 'annoy', 'auto', 'equat', 'blackpool', 'kow', 'beclearoncanc', 'adam', 'minist', 'arabia', 'percent', 'walmart', 'averag', 'moth', 'pls', 'malaysia', 'airlin', 'flight', 'disappear', 'discov', 'wash', 'float', 'rì', 'york', 'novel', 'discoveri', 'malaysian', 'billneelynbc', 'najib', 'isla', 'belong', 'scmp_new', 'delug', 'feed', 'import', 'sincer', 'inevit', 'worker', 'sympathi', 'whatsapp', 'wa', 'stock', 'despit', 'normal', 'embrac', 'torso', 'scale', 'unpreced', 'client', 'swing', 'period', 'shepherd', 'portion', 'deluge', 'surf', 'motion', 'programm', 'dress', 'incess', 'perhap', 'histor', 'truli', 'bibl', 'pad', 'mishacollin', 'thanks', 'teach', 'ren', 'vinc', 'mcmahon', 'billionair', 'nfl', 'value', 'canadian', 'theme', 'joseph', 'shade', 'invoices', 'glimps', 'hyderabad', 'rainfal', 'indi', 'fiction', 'abe', 'imag', 'quiz', 'junk', 'com', 'spam', 'meant', 'eurotunnel', 'migrants', 'accionempresa', 'gerenciatodo', 'hatr', 'patienc', 'intens', 'capit', 'rand', 'demolish', 'enugu', 'structur', 'architect', 'birmingham', 'bait', 'patriot', 'bradi', 'hahah', 'bal', 'radar', 'boundari', 'unconsci', 'negat', 'midget', 'goal', 'abbswinston', 'zionist', 'jordan', 'ex', 'assembl', 'laundri', 'kp', 'absurd', 'manhood', 'behead', 'sell', 'android', 'xd', 'ghostwrit', 'rihanna', 'partner', 'nostril', 'whether', 'opinion', 'folk', 'oz', 'jar', 'colt', 'gamer', 'media', 'since', 'saddlebrook', 'meerkat', 'periscop', 'snowbal', 'salvi', 'bistro', 'former', 'hebron', 'elect', 'carlo', 'arab', 'demolit', 'davidvonderhaar', 'consist', 'freestyl', 'halifax', 'maintain', 'factor', 'psychiatr', 'psa', 'burton', 'frog', 'flint', 'michigan', 'metropoli', 'highsmith', 'der', 'waterway', 'achimota', 'liveonline', 'fkn', 'demo', 'med', 'comp', 'injustic', 'tone', 'weight', 'cont', 'giveaway', 'kit', 'kaduna', 'widespread', 'jose', 'mr', 'schedul', 'domin', 'enemi', 'destini', 'wmata', 'agree', 'sh', 'birth', 'bloomberg', 'publish', 'rail', 'madhya', 'pradesh', 'gridlock', 'simultan', 'alllivesmatt', 'necessari', 'dalla', 'tubestrik', 'mood', 'smithsonian', 'campaign', 'various', 'buyout', 'bn', 'dozen', 'italian', 'party', 'hooligan', 'establish', 'realdonaldtrump', 'democrat', 'recoveri', 'unsuckdcmetro', 'derailed', 'adani', 'modi', 'yahoonew', 'subject', 'feder', 'sw', 'exact', 'passeng', 'commut', 'illustr', 'subway', 'whoa', 'chief', 'identitytheft', 'reopen', 'empti', 'cqnow', 'breakfast', 'suspend', 'jon', 'honor', 'crippl', 'adamtuss', 'chance', 'wheel', 'mt', 'relief', 'mess', 'closest', 'dw', 'biker', 'undercov', 'cnn', 'timkain', 'resum', 'garfield', 'railway', 'ndtv', 'freakiest', 'followback', 'modiministri', 'calumet', 'struck', 'consent', 'csx', 'knoxvill', 'sentinel', 'fault', 'fd', 'applaud', 'prabhu', 'indiannew', 'suresh', 'harda', 'ignor', 'twin', 'ttes', 'helplin', 'anxious', 'topstori', 'cottag', 'cta', 'ctafail', 'condol', 'prairi', 'tube', 'disrupt', 'desol', 'faint', 'glacier', 'thrive', 'sail', 'hav', 'attitud', 'fran', 'soundcloud', 'desolate', 'daniel', 'sacrific', 'abomin', 'maketh', 'corleonedaboss', 'signific', 'neighborhood', 'mall', 'gotten', 'dixon', 'lin', 'electro', 'abused', 'mum', 'redeemeth', 'servant', 'depress', 'jerusalem', 'matt', 'gam', 'comingsoon', 'photoset', 'sheeran', 'hobbit', 'smaug', 'loos', 'tangl', 'conspiraci', 'thriller', 'suspens', 'desolation', 'coyot', 'digit', 'despair', 'jamessnyder', 'lamb', 'intro', 'hd', 'troubl', 'persist', 'prayer', 'forth', 'movie', 'neither', 'wick', 'thi', 'fotoset', 'decemb', 'carpet', 'alcoholism', 'addict', 'loop', 'temptat', 'isol', 'tumblr', 'fandom', 'totalitarian', 'employ', 'ashes', 'defeat', 'snd', 'competit', 'multiplay', 'dilut', 'slander', 'shanta', 'smash', 'ng', 'meme', 'camper', 'anthoni', 'everytim', 'asleep', 'thegam', 'creativity', 'magnet', 'yiayplan', 'path', 'casino', 'congrat', 'crackdown', 'server', 'silli', 'over', 'commonwealth', 'zaynmalik', 'tryna', 'sj', 'gist', 'childhood', 'convinc', 'denier', 'tend', 'hunger', 'rich', 'decreas', 'oop', 'minutes', 'ate', 'kc', 'piece', 'ambit', 'foxa', 'cmcsa', 'sni', 'amcx', 'viab', 'twx', 'basi', 'donå', 'illus', 'destroyed', 'ut', 'phew', 'meat', 'garbage', 'bot', 'pitcher', 'vigil', 'recap', 'gamescom', 'porn', 'cock', 'chop', 'gh', 'stuart', 'broad', 'ford', 'ontario', 'restrict', 'demonstratio', 'greed', 'destruction', 'satur', 'border', 'ukrain', 'divid', 'matthew', 'megadeth', 'symphoni', 'equal', 'propel', 'wb', 'marquei', 'como', 'visto', 'bancodeseri', 'tinyjecht', 'deton', 'antioch', 'apollo', 'stun', 'spinningbot', 'stearn', 'lemon', 'meter', 'surfac', 'mello', 'apollobrown', 'messag', 'grandeur', 'autumn', 'detonate', 'sensor', 'senso', 'connector', 'connecto', 'motorcraft', 'wpt', 'dorman', 'quot', 'esteem', 'belt', 'regard', 'mashup', 'bmw', 'delphi', 'beck', 'arnley', 'realist', 'famous', 'brand', 'acdelco', 'leisur', 'tab', 'consequ', 'tyler', 'talkin', 'anybodi', 'ûïrichmond', 'sitting', 'jam', 'malik', 'perri', 'edward', 'devastated', 'losdelsonido', 'declar', 'saipan', 'ivanberroa', 'barack', 'marian', 'isnt', 'realis', 'actor', 'lad', 'abcnew', 'indoor', 'ûªm', 'cain', 'wrought', 'latestnew', 'cnbc', 'wartim', 'wroug', 'www', 'decad', 'nepal', 'rebuild', 'livelihood', 'quak', 'pmharper', 'argentina', 'thorium', 'weapons', 'scandal', 'environment', 'devastation', 'korea', 'settlement', 'juror', 'starbuck', 'pandem', 'urgent', 'jakartapost', 'mediterranean', 'strengthen', 'haiyan', 'philippin', 'stain', 'jeff', 'disaster', 'pirat', 'acquir', 'starter', 'mì¼sica', 'cinema', 'lack', 'fist', 'ke', 'scifi', 'browser', 'gosh', 'device', 'pitch', 'playoff', 'van', 'sittw', 'genocid', 'ihhen', 'msf', 'strategicpati', 'idp', 'lik', 'osborn', 'extinguish', 'nema', 'wom', 'injured', 'museum', 'mandat', 'trace', 'gn', 'nm', 'township', 'killed', 'tortur', 'elem', 'pomo', 'gofundm', 'label', 'nv', 'hurrican', 'llf', 'nigerian', 'okanagan', 'relentless', 'humid', 'drain', 'columbia', 'sep', 'cloud', 'ego', 'worsen', 'surround', 'have', 'weed', 'bud', 'desert', 'scwx', 'spread', 'rapid', 'gawx', 'activist', 'eeri', 'raider', 'loud', 'anchor', 'graysondolan', 'ev', 'nativ', 'urin', 'insult', 'devot', 'pride', 'nois', 'nathan', 'horizon', 'inform', 'misha', 'natali', 'steak', 'cheer', 'clev', 'drowned', 'how', 'sort', 'kiddi', 'gamerg', 'yellow', 'peterdutton_mp', 'proxi', 'are', 'dw_english', 'ashley', 'rat', 'cafe', 'bounc', 'asylum', 'seeker', 'remors', 'fond', 'caitlin', 'kiernan', 'centiped', 'grace', 'superhero', 'epilepsi', 'bradley', 'diebold', 'his', 'request', 'autist', 'dove', 'jacket', 'vampir', 'clap', 'breaking', 'dust', 'divert', 'newz_sacramento', 'morocco', 'strait', 'gibraltar', 'duststorm', 'april', 'weaken', 'lubbock', 'outflow', 'yell', 'fee', 'unreal', 'brew', 'thunder', 'vantag', 'eastbound', 'geyser', 'riyadh', 'combat', 'magnum', 'opus', 'idaho', 'dakota', 'raw', 'barrier', 'fest', 'circl', 'sismo', 'interlaken', 'utc', 'helen', 'contruct', 'vashon', 'mukilteo', 'renison', 'seismic', 'tasmania', 'tin', 'tem', 'shelli', 'sicili', 'usg', 'eq', 'twentynin', 'earthquake', 'ml', 'ssw', 'anza', 'anchorag', 'oklahoma', 'epicent', 'sm', 'eyes', 'fart', 'hawaii', 'unnecessari', 'legisl', 'rossum', 'jst', 'nnw', 'atm', 'episode', 'darchambau', 'apocalypt', 'tsunami', 'emsc', 'puerto', 'rico', 'kind', 'electrocut', 'blanket', 'batteri', 'extend', 'niall', 'tesla', 'socket', 'danisnotonfir', 'ac', 'delet', 'wouldn', 'asshol', 'fair', 'connect', 'jr', 'beard', 'any', 'senat', 'crucial', 'pakpattan', 'correspond', 'stick', 'lighten', 'backyard', 'eleph', 'factori', 'penalti', 'columbus', 'map', 'bbcnew', 'plug', 'hairdryer', 'tiger', 'appal', 'earbud', 'charger', 'golem', 'nankana', 'sahib', 'faulti', 'dock', 'elsa', 'electrocuted', 'vacat', 'lawsuit', 'supervisor', 'cree', 'knife', 'dispatch', 'surgeri', 'tooth', 'teeth', 'dental', 'wale', 'archipelagowolv', 'heartbeat', 'medicin', 'kuwait', 'specialist', 'stl', 'ace', 'seed', 'veget', 'gear', 'mre', 'indiana', 'lafayett', 'english', 'appeal', 'nurs', 'healthcar', 'fund', 'reinstat', 'buffer', 'excus', 'hom', 'lean', 'quicker', 'blond', 'firetruck', 'sirens', 'batfanuk', 'interesting', 'declin', 'suppli', 'slide', 'deploy', 'troop', 'household', 'builder', 'emergency', 'municip', 'reddit', 'kids', 'cityofcalgari', 'yyc', 'abstorm', 'capac', 'nw', 'workplac', 'retail', 'primarili', 'sick', 'forreal', 'incas', 'president', 'accept', 'cruis', 'feinstein', 'vet', 'enact', 'vietnamese', 'conclud', 'overload', 'prompt', 'compar', 'tflbusalert', 'task', 'fte', 'serv', 'committe', 'personnel', 'services', 'tx', 'veteran', 'ensur', 'access', 'proper', 'followm', 'cope', 'brooklyn', 'locksmith', 'domest', 'mechan', 'circa', 'budget', 'thur', 'missionhil', 'robinson', 'shutdown', 'edmonton', 'kodiak', 'goulburn', 'henri', 'hysteria', 'grey', 'misti', 'indiffer', 'simon', 'pediatr', 'engulf', 'parley', 'canyon', 'tribal', 'madinah', 'prophetmuhammad', 'freeway', 'chao', 'tidal', 'jumper', 'literarycak', 'manifest', 'fieri', 'incap', 'garag', 'golf', 'flames', 'summit', 'ghost', 'badass', 'puni', 'epicentr', 'vault', 'tanzania', 'census', 'nowher', 'petti', 'lollapalooza', 'or', 'poem', 'tram', 'powerlin', 'disregard', 'metlif', 'efak', 'dealbreak', 'abandon', 'evacuate', 'dungeon', 'rutherford', 'refus', 'grew', 'milkshak', 'fifa', 'tournament', 'crimin', 'murfreesboro', 'evacuated', 'newsgoldcoast', 'roosevelt', 'liveonk', 'koin', 'trafford', 'odeon', 'homes', 'swell', 'portland', 'miami', 'casper', 'hahahaha', 'tr', 'sandi', 'hook', 'shore', 'unstabl', 'ahrar', 'negoti', 'zabadani', 'sunni', 'katunew', 'surfer', 'faan', 'mandatori', 'sheriff', 'advisori', 'vietnam', 'patch', 'refund', 'bend', 'swayback', 'ridg', 'inciweb', 'dismay', 'ifak', 'todayngr', 'voluntari', 'cabin', 'pickerel', 'reid', 'exam', 'ink', 'veld', 'ûïa', 'feelingman', 'saint', 'ryan', 'earner', 'mouth', 'destin', 'schwarber', 'kendal', 'jenner', 'stout', 'every', 'explode', 'philadelphia', 'alpha', 'doll', 'duck', 'chick', 'masturb', 'sidewalk', 'tesco', 'pet', 'screen', 'otrametlif', 'whose', 'exploded', 'verseth', 'microphon', 'squeez', 'sarcasm', 'kai', 'upward', 'bean', 'bastard', 'sailor', 'artilleri', 'cartridg', 'hahaha', 'joint', 'explosion', 'protector', 'blackberri', 'by', 'pharaoh', 'corey', 'dancer', 'gmmbc', 'saturday', 'slow', 'southeast', 'logo', 'gaelit', 'greg', 'orchard', 'dye', 'explor', 'osha', 'cape', 'bluff', 'laps', 'writer', 'pyrotechn', 'artwork', 'blossom', 'saddl', 'brass', 'est', 'arena', 'elev', 'button', 'expo', 'theolog', 'aesthet', 'eyewit', 'penn', 'wpri', 'modern', 'hoist', 'climatechang', 'hamburg', 'deni', 'poni', 'cbs', 'seal', 'testimoni', 'schoolboy', 'wftv', 'tn', 'particular', 'dk', 'denmark', 'closur', 'marri', 'captiv', 'macia', 'testifi', 'crematorium', 'provok', 'famin', 'moscow', 'soar', 'soviet', 'function', 'gallup', 'poll', 'famine', 'feast', 'redeem', 'exampl', 'perish', 'erect', 'ethiopian', 'regim', 'eastern', 'ethiopia', 'artifici', 'smell', 'potato', 'stalin', 'adventur', 'conquest', 'kiev', 'presenc', 'stronger', 'punjab', 'lego', 'manslaught', 'elijah', 'walker', 'waimat', 'vermont', 'francisco', 'styl', 'selfi', 'stockton', 'bi', 'nra', 'immigr', 'perman', 'statement', 'eight', 'vital', 'fatalities', 'lv', 'unprepar', 'emp', 'reserv', 'deadliest', 'mortal', 'kombat', 'stretch', 'its', 'interlock', 'mkx', 'hometown', 'rcmp', 'tch', 'whitbourn', 'zero', 'rel', 'tremor', 'dlc', 'lobbi', 'languag', 'yep', 'logist', 'display', 'irish', 'biggi', 'fatality_us', 'dm', 'vgbootcamp', 'sn', 'vabeng', 'vs', 'captain', 'falcon', 'pan', 'rig', 'homi', 'kosciusko', 'pleasant', 'grass', 'mk', 'lebanon', 'loser', 'loretta', 'combin', 'overcom', 'behold', 'drove', 'midnight', 'disturb', 'primari', 'opposit', 'growingupblack', 'unawar', 'depth', 'solitud', 'ma', 'shake', 'unknown', 'forfeit', 'fantasi', 'most', 'wisdom', 'gd', 'ideas', 'reflect', 'delus', 'piti', 'sterl', 'throne', 'avi', 'combo', 'retro', 'politifiact', 'harri', 'pant', 'gasolin', 'wcw', 'tha', 'rent', 'justice', 'overwork', 'rainbow', 'reno', 'sigalert', 'trash', 'langley', 'phase', 'irvin', 'chp', 'detour', 'closed', 'knx', 'dodg', 'wayn', 'ori', 'pumper', 'nno', 'choos', 'fl', 'njturnpik', 'lukebox', 'responders', 'mnpdnashvill', 'sept', 'castl', 'curb', 'vip', 'award', 'gi', 'badg', 'int', 'brave', 'dart', 'technic', 'ord', 'hat', 'cap', 'embroid', 'fever', 'summon', 'guest', 'yoga', 'maryland', 'mansion', 'chose', 'optimist', 'pivot', 'ell', 'graph', 'advantag', 'mississauga', 'flatten', 'penni', 'sumo', 'zouma', 'sam', 'bird', 'chest', 'thee', 'hay', 'icon', 'hide', 'raynor', 'bald', 'bluetooth', 'albertan', 'kurt', 'fallaci', 'steam', 'earring', 'jewelri', 'linerless', 'slowli', 'jkl', 'ky', 'wx', 'curv', 'led', 'offroad', 'fog', 'lamp', 'prom', 'socialnew', 'pcs', 'beam', 'alloy', 'cue', 'tractor', 'utv', 'outdoor', 'hana', 'maui', 'coastal', 'defect', 'trench', 'shelbi', 'cdt', 'alwx', 'grant', 'edt', 'wxki', 'peek', 'mud', 'prone', 'urban', 'while', 'cuban', 'thrust', 'womb', 'midwest', 'environ', 'areas', 'random', 'mmda', 'vision', 'trekker', 'himalaya', 'insubcontin', 'valleywx', 'nycha', 'lrt', 'unveil', 'travi', 'soo', 'jus', 'toni', 'floods', 'change', 'farrakhan', 'rspca', 'erod', 'reckon', 'priceless', 'sunshin', 'bengal', 'cm', 'mamata', 'banerje', 'dvc', 'bjp', 'nj', 'otherwis', 'itun', 'throughout', 'apc', 'bayelsa', 'pagasa', 'li', 'worldvis', 'sumn', 'philippines', 'combust', 'careless', 'campfir', 'pisgah', 'timber', 'routecomplex', 'neck', 'cole', 'nuff', 'service', 'stamp', 'gilmanrocks', 'sharpli', 'alga', 'lightn', 'bois', 'indonesia', 'dump', 'rogu', 'siskiyou', 'nf', 'snake', 'tape', 'consum', 'clash', 'cite', 'mike', 'dawg', 'japton', 'arwx', 'pumpkin', 'massiv', 'outag', 'cheryl', 'thou', 'fahlo', 'queenåê', 'winds', 'sturgi', 'kotaweath', 'kno', 'yycstorm', 'boston', 'unr', 'weston', 'custer', 'pennington', 'sd', 'caesar', 'pound', 'holm', 'okwx', 'lawrenc', 'hailstorm', 'haley_whaley', 'ofclan', 'profil', 'nixon', 'pokemon', 'calgary', 'maxi', 'proven', 'bobcat', 'yycweath', 'sto', 'northeast', 'logan', 'jamaicaplain', 'pot', 'strand', 'pcp', 'cupcak', 'hung', 'isis', 'reboot', 'survey', 'cc', 'infinit', 'scar', 'irwin', 'righteous', 'foul', 'trigger', 'politician', 'lifestyl', 'kraft', 'battlefield', 'duke', 'argument', 'davi', 'eden', 'harden', 'aguero', 'dismiss', 'switch', 'oem', 'chelsea', 'keen', 'lionel', 'history', 'precious', 'willian', 'londonfir', 'swansea', 'lickin', 'dlh', 'outlook', 'hwo', 'crystal', 'foodscar', 'offers', 'nestleindia', 'magginoodl', 'unsaf', 'humanconsumpt', 'olap', 'multidimensi', 'quarrel', 'keratin', 'treatments', 'brazilian', 'copycat', 'meg', 'sneak', 'needl', 'alive', 'typo', 'rush', 'pdx', 'vulner', 'flare', 'oliv', 'oli', 'extract', 'surg', 'ireland', 'arnhem', 'unrel', 'expand', 'longest', 'triple', 'pete', 'scout', 'cooler', 'temp', 'compens', 'miseri', 'internally', 'gazan', 'presstv', 'bcuz', 'vol', 'warfar', 'hellfir', 'afterlif', 'bewar', 'surah', 'humaza', 'ian_hellfir', 'rude', 'sub', 'sew', 'dame', 'diablo', 'sorry', 'tow', 'tension', 'jonathan', 'hijack', 'pdp', 'sight', 'homosexu', 'exploit', 'bypass', 'password', 'technica', 'transfer', 'southampton', 'virgil', 'dijk', 'jeep', 'cheroke', 'fiat', 'chrysler', 'mcgsecur', 'chan', 'oregon', 'cmon', 'governor', 'parol', 'liveleakfun', 'linkuri', 'hijacker', 'mediev', 'distinct', 'diver', 'fresno', 'weigh', 'notexplain', 'infam', 'cooper', 'jagexsupport', 'for', 'softenza', 'funtenna', 'prebreak', 'earnest', 'pletch', 'skateboard', 'samaritans', 'sue', 'korean', 'gp', 'whomev', 'croatian', 'wilson', 'held', 'tomislav', 'salopek', 'msnbc', 'egypt', 'croat', 'europ', 'lockdown', 'rumor', 'bartend', 'pmarca', 'affili', 'auspol', 'wreckag', 'introduc', 'dysfunct', 'nomin', 'who', 'modifi', 'stadium', 'stood', 'superior', 'surrend', 'sinjar', 'massacr', 'yazidi', 'holmgren', 'role', 'hostages', 'deosl', 'girls', 'distress', 'ts', 'nri', 'trs', 'tdp', 'teddi', 'refer', 'minhazmerch', 'bang', 'supermarket', 'boko', 'haram', 'pg', 'aq', 'fought', 'grape', 'guillermo', 'noaa', 'hurricane_dolc', 'bluedio', 'turbin', 'wireless', 'stereo', 'headphon', 'headset', 'meteoearth', 'burner', 'coral', 'mock', 'defin', 'angelriveralib', 'snowden', 'katrina', 'lash', 'pattonoswalt', 'yelp', 'bolster', 'suryaray', 'foster', 'rvacchianonydn', 'michaelgbaron', 'scott', 'wilsher', 'smuggler', 'cosponsor', 'renew', 'mcilroy', 'rori', 'forgiven', 'forgotten', 'regardless', 'inflict', 'bracket', 'injuries', 'seatbelt', 'peel', 'male', 'southdown', 'profession', 'forsur', 'strain', 'director', 'roster', 'costa', 'urg', 'devalu', 'georgia', 'behavior', 'arsen', 'texan', 'wasn', 'volga', 'leon', 'mx', 'injury', 'ergo', 'rotat', 'lamha', 'vike', 'rb', 'lanc', 'dunbar', 'dant', 'stem', 'adamrubinespn', 'ala', 'champ', 'practice', 'cowboy', 'bwp', 'laoi', 'advertis', 'loved', 'inund', 'applic', 'moist', 'vzwsupport', 'posts', 'inundated', 'safari', 'kerri', 'bread', 'banana', 'employe', 'brace', 'muster', 'inundation', 'boot', 'platform', 'realtim', 'unfortun', 'sinkhol', 'martinmj', 'yougov', 'dunde', 'nat', 'hehe', 'pari', 'geneva', 'mon', 'tim', 'reagan', 'venic', 'wafer', 'landslide', 'gilgit', 'alp', 'reinc', 'smart', 'lava', 'amazing', 'pixar', 'youngheroesid', 'pantherattack', 'chili', 'molten', 'shark', 'dip', 'pinpoint', 'reshap', 'miner', 'evening', 'rained', 'gusti', 'downpour', 'icaseit', 'mfi', 'certifi', 'blink', 'altamont', 'autobiographi', 'lawton', 'collin', 'patrol', 'footag', 'unconfirm', 'nearby', 'neighbour', 'tarmineta', 'abbott', 'campbel', 'chew', 'gum', 'outside', 'k_matako_bot', 'morning', 'downstair', 'froze', 'him', 'matako_milk', 'samanthaturne', 'tanstaafl', 'impuls', 'systems', 'blowjob', 'noah_anynam', 'concentr', 'ff', 'riceechrispi', 'royalcarribean', 'faroeisland', 'cbc', 'fredolsencruis', 'itinerari', 'aurora', 'less', 'blah', 'baruch', 'goldstein', 'che', 'gunsens', 'therefor', 'juri', 'dickhead', 'aspect', 'conveni', 'honour', 'unsurpris', 'theeconomist', 'murderer', 'mous', 'subtl', 'sikh', 'viol', 'colorlin', 'incit', 'besti', 'medal', 'channel', 'massacre', 'wsj', 'tunisia', 'march', 'titl', 'zion', 'twain', 'barackobama', 'martyr', 'mayhem', 'hanneman', 'itsjustinstuart', 'raynbowaffair', 'editor', 'diamondkesawn', 'ramag', 'alexbelloli', 'playthursdays', 'everybodi', 'mayhem_', 'andi', 'masterchef', 'nosurrend', 'bulli', 'panick', 'disco', 'ferrel', 'comic', 'observ', 'proport', 'bass', 'ol', 'candid', 'grime', 'whenev', 'commoditiesåêar', 'sp', 'conclus', 'uncontrol', 'byproduct', 'midst', 'mil', 'ushanka', 'fur', 'harass', 'ymcglaun', 'magner', 'discus', 'mutt', 'leadership', 'sucker', 'lulgzimbestpict', 'hillaryclinton', 'teamhendrick', 'suprem', 'sputnik', 'wider', 'militarydotcom', 'stu', 'mudslid', 'fundrais', 'oso', 'hipster', 'dorett', 'smug', 'britishbakeoff', 'iceland', 'gasp', 'maker', 'uniqu', 'mudslide', 'delici', 'bakeofffriend', 'persecut', 'raì¼l', 'cali', 'grid', 'colder', 'mirag', 'pointless', 'addit', 'unavoid', 'tried', 'net', 'billion', 'unrest', 'cheap', 'ay', 'askconnor', 'guatemala', 'chernobyl', 'tepco', 'thyroid', 'anonym', 'tripl', 'radiat', 'denial', 'mailonlin', 'mole', 'spoke', 'deaths', 'pretend', 'ge', 'reactor', 'finnish', 'ancient', 'circuit', 'sidelin', 'newest', 'manual', 'indo', 'pact', 'bas', 'cataclysm', 'fennovoima', 'gentl', 'rt_america', 'sense', 'obliter', 'sonia', 'genius', 'propheci', 'jonvoyag', 'spectacular', 'sarah', 'palin', 'skynew', 'gymtim', 'battleship', 'means', 'math', 'damnnnn', 'gmcr', 'wacko', 'michelebachman', 'firey', 'inferno', 'globalwarm', 'meal', 'acc', 'accustom', 'alone', 'obliteration', 'canaanit', 'worldnetdaili', 'cte', 'dose', 'labour', 'ja', 'privileg', 'renov', 'smallbiz', 'startup', 'little', 'dune', 'deepwat', 'distribut', 'larger', 'refugio', 'costlier', 'plain', 'pipelin', 'nyt', 'bankstown', 'wattl', 'gulf', 'disclo', 'slicker', 'disea', 'edinburgh', 'bronx', 'convent', 'legio', 'sebe', 'fo', 'pandemonium', 'element', 'par', 'sfa', 'iso', 'tgirl', 'faceless', 'hillsid', 'faceåê', 'mania', 'platinum', 'deals_uk', 'douchebag', 'letters', 'newbi', 'playoffs', 'overwhelm', 'alabama', 'gospel', 'acoust', 'eyebal', 'corn', 'montetjwitter', 'linden', 'rhyme', 'attic', 'shook', 'theyr', 'crumbl', 'panicking', 'tinder', 'hurri', 'hardi', 'terrorism', 'obispo', 'billi', 'queensland', 'suicide', 'maid', 'sponsor', 'holist', 'atlant', 'ruler', 'informant', 'dailyko', 'bayonet', 'episcop', 'interraci', 'bounti', 'hunter', 'mayor', 'liverpool', 'karma', 'milwauke', 'quarantine', 'onlinecommun', 'amageddon', 'freespeech', 'quarantin', 'technew', 'offensive', 'offensiveåêcont', 'huffman', 'censor', 'pink', 'subreddit', 'meow', 'exposur', 'oc', 'dl', 'wipp', 'doe', 'rainstorm', 'decor', 'proceed', 'gloucest', 'yobe', 'jim', 'edg', 'rome', 'crown', 'robot_rainstorm', 'thru', 'decis', 'raze', 'sandiego', 'njenga', 'zippednew', 'jihadi', 'newlyw', 'refugees', 'dutton', 'lnp', 'cameroon', 'repatri', 'wowo', 'whao', 'aisl', 'serbian', 'reaad', 'plsss', 'tonyabbottmhr', 'banquet', 'vice', 'animalrescu', 'ud', 'ypres', 'ppact', 'sammi', 'rescue', 'zon', 'opera', 'zak_bagan', 'briton', 'dopey', 'buri', 'coastguard', 'await', 'spaniel', 'stranger', 'ones', 'swept', 'family', 'animals', 'naval', 'vessel', 'mediterran', 'carr', 'carryi', 'nan', 'fu', 'sfgate', 'vulcan', 'lov', 'nickcannon', 'realmandyrain', 'itunesmus', 'blowmandyup', 'tactic', 'headquart', 'soundtrack', 'shield', 'drag', 'au', 'incompet', 'salvador', 'interven', 'vitess', 'buildup', 'skyscrap', 'eric', 'runjewel', 'rioting', 'cindi', 'noonan', 'cindynoonan', 'heartbreak', 'yahistor', 'plenti', 'championship', 'bhramabul', 'jewel', 'duo', 'invent', 'insomniac', 'wee', 'blutz', 'venezuela', 'gr', 'fa', 'rubble', 'rubbl', 'forb', 'wisenew', 'was', 'fame', 'survivors', 'suh', 'unhappi', 'purpos', 'terrif', 'intent', 'greedi', 'sandstorm', 'swallow', 'dumb', 'darud', 'layer', 'woodland', 'loki', 'mina', 'pandora', 'tbh', 'chonc', 'loudest', 'mommi', 'brook', 'dislik', 'fierc', 'cheat', 'vent', 'txt', 'encor', 'quiet', 'fangirl', 'camilacabello', 'screaming', 'harsh', 'chord', 'idol', 'ahhhh', 'omgggg', 'screams', 'pillow', 'jasmin', 'rli', 'cultur', 'buddha', 'looney', 'lemm', 'oppos', 'gabon', 'somalia', 'insight', 'subscript', 'summari', 'marek', 'toss', 'speaker', 'qti', 'detectado', 'japì_n', 'okinawa', 'kml', 'vessels', 'offshor', 'maintenance', 'oilandga', 'seismicsoftwar', 'subcontractor', 'cgg', 'oddbal', 'miyagi', 'beli', 'beneath', 'ru', 'pond', 'lownd', 'sinkhole', 'trolley', 'bethlehem', 'crater', 'fdni', 'yonew', 'evansvill', 'usag', 'wew', 'pension', 'jfc', 'sinking', 'versus', 'payment', 'wooden', 'gander', 'lloyd', 'darkest', 'carb', 'consult', 'lara', 'flesh', 'claw', 'mafia', 'edsheeran', 'spoil', 'bumper', 'repris', 'foxy__siren', 'coursing', 'weyrey_gidi', 'reviv', 'void', 'whelen', 'ss', 'amplifi', 'jennif', 'aniston', 'married', 'process', 'walkthrough', 'cz', 'bday', 'aquarius', 'hacked', 'buck', 'argu', 'fevwarrior', 'attila', 'thu', 'segment', 'divers', 'winner', 'midfield', 'rais', 'gunfir', 'um', 'postcard', 'polaroid', 'brooo', 'blunt', 'alot', 'nake', 'kidney', 'smokes', 'locomot', 'magne', 'tract', 'instruct', 'austin', 'snowstorm', 'desk', 'already', 'irishirr', 'wsaz_brittani', 'kellyannwx', 'sassi', 'hunk', 'smoki', 'aom', 'ibooklov', 'bookboost', 'treeporn', 'june', 'sweater', 'freddi', 'ûïmake', 'franci', 'boe', 'cockpit', 'lakeeffect', 'twill', 'denim', 'lame', 'where', 'vortex', 'fre', 'hobbi', 'sportinggood', 'johngreen', 'finna', 'nasahurrican', 'update', 'satellit', 'bliss', 'stretcher', 'invalid', 'graze', 'rexyy', 'towel', 'daniell', 'inspect', 'ofentse_tsi', 'pllolz', 'witter', 'veggi', 'ûïstretcher', 'virgin', 'galact', 'spaceship', 'brake', 'breakdown', 'rightway', 'rightwaystan', 'excess', 'yours', 'ntsb', 'catoinstitut', 'problems', 'vest', 'bestnaijamad', 'bomber', 'citizen', 'msoreo_', 'll', 'grupdat', 'mercado', 'explosives', 'compound', 'taught', 'pure', 'suruì', 'esh', 'premonit', 'kurdish', 'hama', 'eg', 'suruc', 'confess', 'erdogan', 'beit', 'sunk', 'shatter', 'aquarium', 'ornament', 'crest', 'stomach', 'yup', 'stil', 'reput', 'offspr', 'forex', 'gloria', 'arvindkejriw', 'narendramodi', 'autoinsur', 'clueless', 'driverless', 'navig', 'drawn', 'mankind', 'berlin', 'wud', 'session', 'mute', 'pow', 'outcom', 'haunt', 'sudan', 'ghetto', 'reunit', 'netflix', 'glenn', 'andrea', 'jacqui', 'cub', 'lu', 'remembr', 'quran', 'phillip', 'democracy', 'omega', 'religion', 'rayner', 'newsarama', 'bord', 'ctd', 'chattanooga', 'if', 'but', 'uniti', 'allianc', 'assad', 'apprais', 'nave', 'metrofmtalk', 'moham', 'pulwama', 'nia', 'quizz', 'jammu', 'disown', 'kasab', 'an', 'idek', 'tht', 'whoop', 'haaretz', 'overnight', 'burger', 'newscomauhq', 'privaci', 'jihad', 'originalfunko', 'spencer', 'sheet', 'mama', 'leonalewi', 'durant', 'nba', 'usnwsgov', 'oun', 'lincoln', 'picken', 'livingsaf', 'mdt', 'helsinki', 'tornadogiveaway', 'thebookclub', 'teas', 'skye', 'eastward', 'brunett', 'villa', 'hayden', 'pose', 'strip', 'recount', 'timesofindia', 'greater', 'comfort', 'ûïwhen', 'plung', 'tragedy', 'lewi', 'markets', 'marriag', 'innit', 'chile', 'manga', 'triangl', 'salut', 'somewher', 'eudrylantiqua', 'holli', 'santiago', 'zarri', 'newsdict', 'panda', 'nz', 'qz', 'ptsdchat', 'eighty', 'nin', 'hempoil', 'cannabi', 'unaddress', 'anywher', 'pa', 'concuss', 'richmond', 'flashback', 'traumatised', 'strawberri', 'trouble', 'buffett', 'sector', 'godslov', 'thanku', 'danni', 'tutorial', 'speech', 'dvbbs', 'tsunami_esh', 'amen', 'uncertain', 'nostalgia', 'beacon', 'greenlacey', 'twister', 'shania', 'thetwist', 'titti', 'outbid', 'oneself', 'hew', 'woodchuck', 'nino', 'gg', 'diesel', 'curl', 'laura', 'landfal', 'precipit', 'measur', 'rt_com', 'territori', 'gpm', 'bullsey', 'upheav', 'newberg', 'jacqu', 'betz', 'aladdin', 'aus', 'mayan', 'hieroglyph', 'lowli', 'soil', 'perquisit', 'diageo', 'revolt', 'livesci', 'security', 'sack', 'pov', 'amsterdam', 'watertown', 'bruis', 'stormchas', 'ef', 'schiphol', 'auckland', 'northland', 'tunein', 'nasasolarsystem', 'jupit', 'bolt', 'blitz', 'travers', 'pup', 'wth', 'raung', 'aogashima', 'diaporama', 'sixpencee', 'karymski', 'asic', 'ronni', 'fieg', 'kith', 'mgs', 'thuggin', 'seasonfrom', 'onshit', 'thug', 'ct', 'kitchen', 'mindset', 'lethal', 'firearm', 'insanelimit', 'plugin', 'slosher', 'dub', 'resort', 'settl', 'similar', 'dannyonpc', 'hardlin', 'throwingknif', 'esport', 'corrupt', 'gal', 'splash', 'rapidc', 'cheyenn', 'whirlwind', 'thailand', 'luhan', 'pawsox', 'durham', 'lib', 'scissor', 'cal', 'aria_ahrari', 'thetawniest', 'mart', 'wipe', 'hiker', 'fingerrockfir', 'parker', 'idfir', 'scariest', 'lancast', 'attention', 'easternoregon', 'aftermath', 'windstorm', 'fifti', 'hike', 'twia', 'cent', 'salvadoran', 'exc', 'exagger', 'wounded', 'veterans', 'wocowa', 'ush', 'gunshot', 'bicep', 'kerricktri', 'jonathanferrel', 'wounds', 'kashmir', 'belli', 'woodlawn', 'enem', 'friggin', 'crawl', 'septic', 'florenc', 'worse', 'northbound', 'sequel', 'ralph', 'nervous', 'furious', 'buzzfe', 'stare', 'cramer', 'iger', 'audi', 'wrecked', 'nws', 'overtak', 'diva', 'wer', 'vista', 'gresham', 'afford', 'bond', 'fifteen', 'makeup', 'belov', 'shred', 'thehil', 'futurist', 'rr', 'script', 'patent', 'pend', 'hitchbot', 'stainless', 'happens', 'saginaw', 'norcal', 'newcastl', 'schoolgirl', 'smith', 'taho', 'fallout', 'asteroid', 'guidelin', 'irrelev', 'hst', 'kimeri', 'syfi', 'rogan', 'hiv', 'aggrav', 'from', 'gimm', 'ashen', 'eras', 'reynold', 'balloon', 'stamford', 'monument', 'golden', 'dentist', 'zealand', 'camouflag', 'camo', 'wallet', 'nikon', 'slr', 'dian', 'fools', 'eish', 'complexmag', 'shld', 'princess', 'minneapoli', 'shane', 'ricki', 'doesn', 'did', 'ûòdon', 'denisleari', 'truehero', 'nn', 'incl', 'piglet', 'melbourn', 'heartbroken', 'cardio', 'welp', 'burning', 'hrs', 'bushfir', 'albania', 'vict', 'goddamn', 'vpzedd', 'cater', 'thomasistrash', 'wp', 'nyclass', 'wh', 'sentedcruz', 'pope', 'bacup', 'rossendal', 'hammondville', 'tribut', 'carpent', 'inquiri', 'furnitur', 'hilton', 'carrier', 'maru', 'tanker', 'mustang', 'suggest', 'php', 'wrestl', 'sandy', 'butterfli', 'undo', 'curtain', 'joenbc', 'scorpioncb', 'cardin', 'aint', 'raleigh', 'ûªs', 'outskirt', 'spiritu', 'fil', 'shaunk', 'enforc', 'confid', 'havin', 'poetri', 'barton', 'voice', 'defundpp', 'economist', 'nonsens', 'wat', 'buzz', 'demolition', 'oppon', 'pumpkinmari_bot', 'quivk', 'disabl', 'wusa', 'submarin', 'cp', 'bombard', 'enslav', 'skate', 'commiss', 'nobl', 'billdanzemop', 'famemop', 'indic', 'golan', 'bitchi', 'perla', 'sauc', 'piggi', 'irin', 'reconstruct', 'reduct', 'nokia', 'county', 'leftov', 'been', 'prevail', 'islands', 'unitedst', 'spoiler', 'maci', 'transmiss', 'evacuation', 'plumber', 'ped', 'fellowship', 'cornwal', 'intim', 'catalina', 'string', 'conceal', 'nothin', 'hardwel', 'hp', 'repli', 'straw', 'sprint', 'frack', 'heroic', 'ukrainian', 'msm', 'noobd', 'spade', 'conquer', 'cpu', 'turnpik', 'hallett', 'toy', 'warwick', 'terri', 'extant', 'unlik', 'bead', 'ofa', 'kolkata', 'eagl', 'herald', 'overpass', 'calgaryweath', 'accur', 'depay', 'nvidia', 'dispos', 'rash', 'hours', 'stagefright', 'ign', 'dll', 'overpow', 'thine', 'lasvega', 'wdsu', 'orlean', 'policeman', 'peer', 'lp', 'highlight', 'manipur', 'virtu', 'bihar', 'iri', 'spawn', 'closer', 'tontitowngrap', 'tgf', 'goe', 'houz', 'geno', 'kermit', 'waffl', 'investor', 'meltdown_show', 'admir', 'yal', 'archiv', 'regulatori', 'derek', 'dire', 'zerohedg', 'ebolaåêcas', 'reform', 'hindu', 'nairobi', 'msg', 'manner', 'gma', 'avocado', 'matur', 'tbi', 'wu', 'goo', 'creepi', 'numb', 'wnba', 'harun', 'ìàekdar', 'smartest', 'ta', 'dannic', 'gymnast', 'gsp', 'northeastern', 'teambrianmundi', 'ncjfcj', 'edsa', 'cubao', 'occupied', 'parson', 'pars', 'quezon', 'ketep', 'trueli', 'wolverin']\n",
      "Word2Vec(vocab=6760, size=300, alpha=0.025)\n"
     ]
    }
   ],
   "source": [
    "# summarize vocabulary\n",
    "words = list(wv_model.wv.vocab)\n",
    "print(words)\n",
    "\n",
    "# save model\n",
    "wv_model.save('model.bin')\n",
    "# load model\n",
    "wv_model = Word2Vec.load('model.bin')\n",
    "print(wv_model)"
   ]
  },
  {
   "cell_type": "code",
   "execution_count": 34,
   "metadata": {
    "_cell_guid": "4fadb2f4-e6e0-4996-a484-a626c3e205eb",
    "_uuid": "70582378-de69-46bc-9bb1-a8d3af8c0639"
   },
   "outputs": [
    {
     "name": "stderr",
     "output_type": "stream",
     "text": [
      "/opt/conda/lib/python3.6/site-packages/ipykernel_launcher.py:1: DeprecationWarning: Call to deprecated `most_similar` (Method will be removed in 4.0.0, use self.wv.most_similar() instead).\n",
      "  \"\"\"Entry point for launching an IPython kernel.\n"
     ]
    },
    {
     "data": {
      "text/plain": [
       "[('pickup', 0.9945023655891418),\n",
       " ('tr', 0.9927799701690674),\n",
       " ('resid', 0.9926772117614746),\n",
       " ('cal', 0.9924595355987549),\n",
       " ('drunk', 0.9923288226127625),\n",
       " ('sat', 0.9923228621482849),\n",
       " ('who', 0.9921956062316895),\n",
       " ('tanker', 0.9920181035995483),\n",
       " ('langley', 0.9918699860572815),\n",
       " ('cheyenn', 0.9918508529663086)]"
      ]
     },
     "execution_count": 34,
     "metadata": {},
     "output_type": "execute_result"
    }
   ],
   "source": [
    "wv_model.most_similar('ablaze')"
   ]
  },
  {
   "cell_type": "code",
   "execution_count": 35,
   "metadata": {
    "_cell_guid": "b6b6b8ec-a7f0-4536-af64-dd5c0fde7301",
    "_uuid": "cef3e31b-664b-4f17-952a-606131ac8a99"
   },
   "outputs": [
    {
     "name": "stderr",
     "output_type": "stream",
     "text": [
      "/opt/conda/lib/python3.6/site-packages/ipykernel_launcher.py:5: DeprecationWarning: Call to deprecated `__contains__` (Method will be removed in 4.0.0, use self.wv.__contains__() instead).\n",
      "  \"\"\"\n",
      "/opt/conda/lib/python3.6/site-packages/ipykernel_launcher.py:5: DeprecationWarning: Call to deprecated `__getitem__` (Method will be removed in 4.0.0, use self.wv.__getitem__() instead).\n",
      "  \"\"\"\n"
     ]
    }
   ],
   "source": [
    "def get_word_embeddings(token_list,vector,k=300):\n",
    "    if len(token_list) < 1:\n",
    "        return np.zeros(k)\n",
    "    else:\n",
    "        vectorized = [vector[word] if word in vector else np.random.rand(k) for word in token_list] \n",
    "    \n",
    "    sum = np.sum(vectorized,axis=0)\n",
    "    ## return the average\n",
    "    return sum/len(vectorized)        \n",
    "def get_embeddings(tokens,vector):\n",
    "        embeddings = tokens.apply(lambda x: get_word_embeddings(x, wv_model))\n",
    "        return list(embeddings)\n",
    "\n",
    "train_embeddings = get_embeddings(train_df['tokens'],wv_model)\n",
    "test_embeddings = get_embeddings(test_df['tokens'],wv_model)"
   ]
  },
  {
   "cell_type": "code",
   "execution_count": 36,
   "metadata": {
    "_cell_guid": "0966be9f-9a8f-44cc-842e-88b08751670d",
    "_uuid": "19fc26d5-1615-481e-b5eb-d0365a9c80bd"
   },
   "outputs": [
    {
     "data": {
      "text/plain": [
       "LogisticRegression(C=1.0, class_weight=None, dual=False, fit_intercept=True,\n",
       "                   intercept_scaling=1, l1_ratio=None, max_iter=300,\n",
       "                   multi_class='warn', n_jobs=None, penalty='l2',\n",
       "                   random_state=None, solver='lbfgs', tol=0.0001, verbose=0,\n",
       "                   warm_start=False)"
      ]
     },
     "execution_count": 36,
     "metadata": {},
     "output_type": "execute_result"
    }
   ],
   "source": [
    "lg= linear_model.LogisticRegression(solver='lbfgs',max_iter=300)\n",
    "lg.fit(train_embeddings,y_train)"
   ]
  },
  {
   "cell_type": "code",
   "execution_count": 37,
   "metadata": {
    "_cell_guid": "5c92b66f-ee3b-4459-8023-94412a83b803",
    "_uuid": "7b83c607-f103-4136-8e22-976b449011fa"
   },
   "outputs": [],
   "source": [
    "predictions=lg.predict(test_embeddings)"
   ]
  },
  {
   "cell_type": "code",
   "execution_count": 38,
   "metadata": {
    "_cell_guid": "68fe07c3-632d-4e62-ad48-759d9181897c",
    "_uuid": "5b5b0372-aa51-4019-b024-473a059a5d26"
   },
   "outputs": [
    {
     "data": {
      "text/plain": [
       "0.6124780907711951"
      ]
     },
     "execution_count": 38,
     "metadata": {},
     "output_type": "execute_result"
    }
   ],
   "source": [
    "cross_val_score(lg,train_embeddings,train_df)"
   ]
  },
  {
   "cell_type": "code",
   "execution_count": 39,
   "metadata": {
    "_cell_guid": "adabba8c-987a-4ff7-8704-660bb52abdd5",
    "_uuid": "16ac9d81-b5c1-42f0-bdd8-045127fb9364"
   },
   "outputs": [],
   "source": [
    "submission = pd.DataFrame({\n",
    "        \"id\": df_raw[\"id\"],\n",
    "        \"target\":final_predict\n",
    "    })\n",
    "\n",
    "submission.to_csv('tweet_submission_file.csv', index=False)"
   ]
  }
 ],
 "metadata": {
  "kernelspec": {
   "display_name": "Python 3",
   "language": "python",
   "name": "python3"
  },
  "language_info": {
   "codemirror_mode": {
    "name": "ipython",
    "version": 3
   },
   "file_extension": ".py",
   "mimetype": "text/x-python",
   "name": "python",
   "nbconvert_exporter": "python",
   "pygments_lexer": "ipython3",
   "version": "3.6.6"
  }
 },
 "nbformat": 4,
 "nbformat_minor": 4
}
